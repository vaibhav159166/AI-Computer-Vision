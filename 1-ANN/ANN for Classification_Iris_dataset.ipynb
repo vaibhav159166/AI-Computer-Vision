{
 "cells": [
  {
   "cell_type": "markdown",
   "id": "a596a164",
   "metadata": {},
   "source": [
    "### Import neccessary libraries"
   ]
  },
  {
   "cell_type": "code",
   "execution_count": 227,
   "id": "98eaef0c",
   "metadata": {},
   "outputs": [],
   "source": [
    "import pandas as pd\n",
    "import numpy as np\n",
    "import seaborn as sns\n",
    "import matplotlib.pyplot as plt\n",
    "from matplotlib import style\n",
    "style.use(\"dark_background\")\n",
    "from IPython import display"
   ]
  },
  {
   "cell_type": "markdown",
   "id": "c6674abc",
   "metadata": {},
   "source": [
    "### Load dataset"
   ]
  },
  {
   "cell_type": "code",
   "execution_count": 228,
   "id": "e8845f3b",
   "metadata": {},
   "outputs": [
    {
     "data": {
      "text/html": [
       "<div>\n",
       "<style scoped>\n",
       "    .dataframe tbody tr th:only-of-type {\n",
       "        vertical-align: middle;\n",
       "    }\n",
       "\n",
       "    .dataframe tbody tr th {\n",
       "        vertical-align: top;\n",
       "    }\n",
       "\n",
       "    .dataframe thead th {\n",
       "        text-align: right;\n",
       "    }\n",
       "</style>\n",
       "<table border=\"1\" class=\"dataframe\">\n",
       "  <thead>\n",
       "    <tr style=\"text-align: right;\">\n",
       "      <th></th>\n",
       "      <th>sepal_length</th>\n",
       "      <th>sepal_width</th>\n",
       "      <th>petal_length</th>\n",
       "      <th>petal_width</th>\n",
       "      <th>species</th>\n",
       "    </tr>\n",
       "  </thead>\n",
       "  <tbody>\n",
       "    <tr>\n",
       "      <th>0</th>\n",
       "      <td>5.1</td>\n",
       "      <td>3.5</td>\n",
       "      <td>1.4</td>\n",
       "      <td>0.2</td>\n",
       "      <td>setosa</td>\n",
       "    </tr>\n",
       "    <tr>\n",
       "      <th>1</th>\n",
       "      <td>4.9</td>\n",
       "      <td>3.0</td>\n",
       "      <td>1.4</td>\n",
       "      <td>0.2</td>\n",
       "      <td>setosa</td>\n",
       "    </tr>\n",
       "    <tr>\n",
       "      <th>2</th>\n",
       "      <td>4.7</td>\n",
       "      <td>3.2</td>\n",
       "      <td>1.3</td>\n",
       "      <td>0.2</td>\n",
       "      <td>setosa</td>\n",
       "    </tr>\n",
       "    <tr>\n",
       "      <th>3</th>\n",
       "      <td>4.6</td>\n",
       "      <td>3.1</td>\n",
       "      <td>1.5</td>\n",
       "      <td>0.2</td>\n",
       "      <td>setosa</td>\n",
       "    </tr>\n",
       "    <tr>\n",
       "      <th>4</th>\n",
       "      <td>5.0</td>\n",
       "      <td>3.6</td>\n",
       "      <td>1.4</td>\n",
       "      <td>0.2</td>\n",
       "      <td>setosa</td>\n",
       "    </tr>\n",
       "    <tr>\n",
       "      <th>5</th>\n",
       "      <td>5.4</td>\n",
       "      <td>3.9</td>\n",
       "      <td>1.7</td>\n",
       "      <td>0.4</td>\n",
       "      <td>setosa</td>\n",
       "    </tr>\n",
       "    <tr>\n",
       "      <th>6</th>\n",
       "      <td>4.6</td>\n",
       "      <td>3.4</td>\n",
       "      <td>1.4</td>\n",
       "      <td>0.3</td>\n",
       "      <td>setosa</td>\n",
       "    </tr>\n",
       "    <tr>\n",
       "      <th>7</th>\n",
       "      <td>5.0</td>\n",
       "      <td>3.4</td>\n",
       "      <td>1.5</td>\n",
       "      <td>0.2</td>\n",
       "      <td>setosa</td>\n",
       "    </tr>\n",
       "    <tr>\n",
       "      <th>8</th>\n",
       "      <td>4.4</td>\n",
       "      <td>2.9</td>\n",
       "      <td>1.4</td>\n",
       "      <td>0.2</td>\n",
       "      <td>setosa</td>\n",
       "    </tr>\n",
       "    <tr>\n",
       "      <th>9</th>\n",
       "      <td>4.9</td>\n",
       "      <td>3.1</td>\n",
       "      <td>1.5</td>\n",
       "      <td>0.1</td>\n",
       "      <td>setosa</td>\n",
       "    </tr>\n",
       "  </tbody>\n",
       "</table>\n",
       "</div>"
      ],
      "text/plain": [
       "   sepal_length  sepal_width  petal_length  petal_width species\n",
       "0           5.1          3.5           1.4          0.2  setosa\n",
       "1           4.9          3.0           1.4          0.2  setosa\n",
       "2           4.7          3.2           1.3          0.2  setosa\n",
       "3           4.6          3.1           1.5          0.2  setosa\n",
       "4           5.0          3.6           1.4          0.2  setosa\n",
       "5           5.4          3.9           1.7          0.4  setosa\n",
       "6           4.6          3.4           1.4          0.3  setosa\n",
       "7           5.0          3.4           1.5          0.2  setosa\n",
       "8           4.4          2.9           1.4          0.2  setosa\n",
       "9           4.9          3.1           1.5          0.1  setosa"
      ]
     },
     "execution_count": 228,
     "metadata": {},
     "output_type": "execute_result"
    }
   ],
   "source": [
    "iris=sns.load_dataset('iris')\n",
    "iris.head(10)"
   ]
  },
  {
   "cell_type": "code",
   "execution_count": 229,
   "id": "c4a28b59",
   "metadata": {},
   "outputs": [
    {
     "data": {
      "text/plain": [
       "(150, 5)"
      ]
     },
     "execution_count": 229,
     "metadata": {},
     "output_type": "execute_result"
    }
   ],
   "source": [
    "iris.shape"
   ]
  },
  {
   "cell_type": "code",
   "execution_count": 230,
   "id": "d7981839",
   "metadata": {},
   "outputs": [
    {
     "name": "stdout",
     "output_type": "stream",
     "text": [
      "<class 'pandas.core.frame.DataFrame'>\n",
      "RangeIndex: 150 entries, 0 to 149\n",
      "Data columns (total 5 columns):\n",
      " #   Column        Non-Null Count  Dtype  \n",
      "---  ------        --------------  -----  \n",
      " 0   sepal_length  150 non-null    float64\n",
      " 1   sepal_width   150 non-null    float64\n",
      " 2   petal_length  150 non-null    float64\n",
      " 3   petal_width   150 non-null    float64\n",
      " 4   species       150 non-null    object \n",
      "dtypes: float64(4), object(1)\n",
      "memory usage: 6.0+ KB\n"
     ]
    }
   ],
   "source": [
    "iris.info()"
   ]
  },
  {
   "cell_type": "code",
   "execution_count": 231,
   "id": "0f392789",
   "metadata": {},
   "outputs": [
    {
     "data": {
      "text/plain": [
       "sepal_length    0\n",
       "sepal_width     0\n",
       "petal_length    0\n",
       "petal_width     0\n",
       "species         0\n",
       "dtype: int64"
      ]
     },
     "execution_count": 231,
     "metadata": {},
     "output_type": "execute_result"
    }
   ],
   "source": [
    "iris.isnull().sum()"
   ]
  },
  {
   "cell_type": "code",
   "execution_count": 232,
   "id": "df136a53",
   "metadata": {},
   "outputs": [
    {
     "data": {
      "text/plain": [
       "1"
      ]
     },
     "execution_count": 232,
     "metadata": {},
     "output_type": "execute_result"
    }
   ],
   "source": [
    "iris.duplicated().sum()"
   ]
  },
  {
   "cell_type": "code",
   "execution_count": 233,
   "id": "9f49701d",
   "metadata": {},
   "outputs": [],
   "source": [
    "iris.drop_duplicates(inplace=True)"
   ]
  },
  {
   "cell_type": "code",
   "execution_count": 234,
   "id": "d75fac2a",
   "metadata": {},
   "outputs": [
    {
     "data": {
      "text/plain": [
       "Index(['sepal_length', 'sepal_width', 'petal_length', 'petal_width',\n",
       "       'species'],\n",
       "      dtype='object')"
      ]
     },
     "execution_count": 234,
     "metadata": {},
     "output_type": "execute_result"
    }
   ],
   "source": [
    "iris.columns"
   ]
  },
  {
   "cell_type": "code",
   "execution_count": 235,
   "id": "6a55ac99",
   "metadata": {},
   "outputs": [
    {
     "data": {
      "text/plain": [
       "array(['setosa', 'versicolor', 'virginica'], dtype=object)"
      ]
     },
     "execution_count": 235,
     "metadata": {},
     "output_type": "execute_result"
    }
   ],
   "source": [
    "iris[\"species\"].unique()"
   ]
  },
  {
   "cell_type": "code",
   "execution_count": 236,
   "id": "360efc84",
   "metadata": {},
   "outputs": [
    {
     "data": {
      "text/html": [
       "<div>\n",
       "<style scoped>\n",
       "    .dataframe tbody tr th:only-of-type {\n",
       "        vertical-align: middle;\n",
       "    }\n",
       "\n",
       "    .dataframe tbody tr th {\n",
       "        vertical-align: top;\n",
       "    }\n",
       "\n",
       "    .dataframe thead th {\n",
       "        text-align: right;\n",
       "    }\n",
       "</style>\n",
       "<table border=\"1\" class=\"dataframe\">\n",
       "  <thead>\n",
       "    <tr style=\"text-align: right;\">\n",
       "      <th></th>\n",
       "      <th>sepal_length</th>\n",
       "      <th>sepal_width</th>\n",
       "      <th>petal_length</th>\n",
       "      <th>petal_width</th>\n",
       "      <th>species</th>\n",
       "    </tr>\n",
       "  </thead>\n",
       "  <tbody>\n",
       "    <tr>\n",
       "      <th>0</th>\n",
       "      <td>5.1</td>\n",
       "      <td>3.5</td>\n",
       "      <td>1.4</td>\n",
       "      <td>0.2</td>\n",
       "      <td>setosa</td>\n",
       "    </tr>\n",
       "    <tr>\n",
       "      <th>1</th>\n",
       "      <td>4.9</td>\n",
       "      <td>3.0</td>\n",
       "      <td>1.4</td>\n",
       "      <td>0.2</td>\n",
       "      <td>setosa</td>\n",
       "    </tr>\n",
       "    <tr>\n",
       "      <th>2</th>\n",
       "      <td>4.7</td>\n",
       "      <td>3.2</td>\n",
       "      <td>1.3</td>\n",
       "      <td>0.2</td>\n",
       "      <td>setosa</td>\n",
       "    </tr>\n",
       "    <tr>\n",
       "      <th>3</th>\n",
       "      <td>4.6</td>\n",
       "      <td>3.1</td>\n",
       "      <td>1.5</td>\n",
       "      <td>0.2</td>\n",
       "      <td>setosa</td>\n",
       "    </tr>\n",
       "    <tr>\n",
       "      <th>4</th>\n",
       "      <td>5.0</td>\n",
       "      <td>3.6</td>\n",
       "      <td>1.4</td>\n",
       "      <td>0.2</td>\n",
       "      <td>setosa</td>\n",
       "    </tr>\n",
       "  </tbody>\n",
       "</table>\n",
       "</div>"
      ],
      "text/plain": [
       "   sepal_length  sepal_width  petal_length  petal_width species\n",
       "0           5.1          3.5           1.4          0.2  setosa\n",
       "1           4.9          3.0           1.4          0.2  setosa\n",
       "2           4.7          3.2           1.3          0.2  setosa\n",
       "3           4.6          3.1           1.5          0.2  setosa\n",
       "4           5.0          3.6           1.4          0.2  setosa"
      ]
     },
     "execution_count": 236,
     "metadata": {},
     "output_type": "execute_result"
    }
   ],
   "source": [
    "iris.head()"
   ]
  },
  {
   "cell_type": "code",
   "execution_count": 237,
   "id": "3c7a07c3",
   "metadata": {},
   "outputs": [],
   "source": [
    "# Label Encoder\n",
    "from sklearn.preprocessing import LabelEncoder\n",
    "labelencoder=LabelEncoder()\n",
    "iris['species']=labelencoder.fit_transform(iris['species'])"
   ]
  },
  {
   "cell_type": "code",
   "execution_count": 238,
   "id": "78c02f10",
   "metadata": {},
   "outputs": [
    {
     "data": {
      "text/plain": [
       "0      0\n",
       "1      0\n",
       "2      0\n",
       "3      0\n",
       "4      0\n",
       "      ..\n",
       "145    2\n",
       "146    2\n",
       "147    2\n",
       "148    2\n",
       "149    2\n",
       "Name: species, Length: 149, dtype: int32"
      ]
     },
     "execution_count": 238,
     "metadata": {},
     "output_type": "execute_result"
    }
   ],
   "source": [
    "iris['species']"
   ]
  },
  {
   "cell_type": "code",
   "execution_count": 239,
   "id": "f9661906",
   "metadata": {},
   "outputs": [
    {
     "data": {
      "text/plain": [
       "0    50\n",
       "1    50\n",
       "2    49\n",
       "Name: species, dtype: int64"
      ]
     },
     "execution_count": 239,
     "metadata": {},
     "output_type": "execute_result"
    }
   ],
   "source": [
    "iris['species'].value_counts()"
   ]
  },
  {
   "cell_type": "code",
   "execution_count": 240,
   "id": "930fbe70",
   "metadata": {},
   "outputs": [
    {
     "data": {
      "text/plain": [
       "0      0\n",
       "1      0\n",
       "2      0\n",
       "3      0\n",
       "4      0\n",
       "      ..\n",
       "145    2\n",
       "146    2\n",
       "147    2\n",
       "148    2\n",
       "149    2\n",
       "Name: species, Length: 149, dtype: int32"
      ]
     },
     "execution_count": 240,
     "metadata": {},
     "output_type": "execute_result"
    }
   ],
   "source": [
    "iris[\"species\"]"
   ]
  },
  {
   "cell_type": "code",
   "execution_count": 241,
   "id": "cb200bfb",
   "metadata": {},
   "outputs": [],
   "source": [
    "# Assign all features to X and target column as y\n",
    "# Divide the data into train and test\n",
    "X = iris.drop(columns=[\"species\"])\n",
    "y = iris[\"species\"].values\n",
    "\n",
    "X_train, X_test, y_train, y_test = train_test_split(X, y, test_size=0.2, random_state=0)"
   ]
  },
  {
   "cell_type": "code",
   "execution_count": 242,
   "id": "3ac75378",
   "metadata": {},
   "outputs": [
    {
     "data": {
      "text/html": [
       "<div>\n",
       "<style scoped>\n",
       "    .dataframe tbody tr th:only-of-type {\n",
       "        vertical-align: middle;\n",
       "    }\n",
       "\n",
       "    .dataframe tbody tr th {\n",
       "        vertical-align: top;\n",
       "    }\n",
       "\n",
       "    .dataframe thead th {\n",
       "        text-align: right;\n",
       "    }\n",
       "</style>\n",
       "<table border=\"1\" class=\"dataframe\">\n",
       "  <thead>\n",
       "    <tr style=\"text-align: right;\">\n",
       "      <th></th>\n",
       "      <th>sepal_length</th>\n",
       "      <th>sepal_width</th>\n",
       "      <th>petal_length</th>\n",
       "      <th>petal_width</th>\n",
       "    </tr>\n",
       "  </thead>\n",
       "  <tbody>\n",
       "    <tr>\n",
       "      <th>0</th>\n",
       "      <td>5.1</td>\n",
       "      <td>3.5</td>\n",
       "      <td>1.4</td>\n",
       "      <td>0.2</td>\n",
       "    </tr>\n",
       "    <tr>\n",
       "      <th>1</th>\n",
       "      <td>4.9</td>\n",
       "      <td>3.0</td>\n",
       "      <td>1.4</td>\n",
       "      <td>0.2</td>\n",
       "    </tr>\n",
       "    <tr>\n",
       "      <th>2</th>\n",
       "      <td>4.7</td>\n",
       "      <td>3.2</td>\n",
       "      <td>1.3</td>\n",
       "      <td>0.2</td>\n",
       "    </tr>\n",
       "    <tr>\n",
       "      <th>3</th>\n",
       "      <td>4.6</td>\n",
       "      <td>3.1</td>\n",
       "      <td>1.5</td>\n",
       "      <td>0.2</td>\n",
       "    </tr>\n",
       "    <tr>\n",
       "      <th>4</th>\n",
       "      <td>5.0</td>\n",
       "      <td>3.6</td>\n",
       "      <td>1.4</td>\n",
       "      <td>0.2</td>\n",
       "    </tr>\n",
       "    <tr>\n",
       "      <th>...</th>\n",
       "      <td>...</td>\n",
       "      <td>...</td>\n",
       "      <td>...</td>\n",
       "      <td>...</td>\n",
       "    </tr>\n",
       "    <tr>\n",
       "      <th>145</th>\n",
       "      <td>6.7</td>\n",
       "      <td>3.0</td>\n",
       "      <td>5.2</td>\n",
       "      <td>2.3</td>\n",
       "    </tr>\n",
       "    <tr>\n",
       "      <th>146</th>\n",
       "      <td>6.3</td>\n",
       "      <td>2.5</td>\n",
       "      <td>5.0</td>\n",
       "      <td>1.9</td>\n",
       "    </tr>\n",
       "    <tr>\n",
       "      <th>147</th>\n",
       "      <td>6.5</td>\n",
       "      <td>3.0</td>\n",
       "      <td>5.2</td>\n",
       "      <td>2.0</td>\n",
       "    </tr>\n",
       "    <tr>\n",
       "      <th>148</th>\n",
       "      <td>6.2</td>\n",
       "      <td>3.4</td>\n",
       "      <td>5.4</td>\n",
       "      <td>2.3</td>\n",
       "    </tr>\n",
       "    <tr>\n",
       "      <th>149</th>\n",
       "      <td>5.9</td>\n",
       "      <td>3.0</td>\n",
       "      <td>5.1</td>\n",
       "      <td>1.8</td>\n",
       "    </tr>\n",
       "  </tbody>\n",
       "</table>\n",
       "<p>149 rows × 4 columns</p>\n",
       "</div>"
      ],
      "text/plain": [
       "     sepal_length  sepal_width  petal_length  petal_width\n",
       "0             5.1          3.5           1.4          0.2\n",
       "1             4.9          3.0           1.4          0.2\n",
       "2             4.7          3.2           1.3          0.2\n",
       "3             4.6          3.1           1.5          0.2\n",
       "4             5.0          3.6           1.4          0.2\n",
       "..            ...          ...           ...          ...\n",
       "145           6.7          3.0           5.2          2.3\n",
       "146           6.3          2.5           5.0          1.9\n",
       "147           6.5          3.0           5.2          2.0\n",
       "148           6.2          3.4           5.4          2.3\n",
       "149           5.9          3.0           5.1          1.8\n",
       "\n",
       "[149 rows x 4 columns]"
      ]
     },
     "execution_count": 242,
     "metadata": {},
     "output_type": "execute_result"
    }
   ],
   "source": [
    "X"
   ]
  },
  {
   "cell_type": "code",
   "execution_count": 243,
   "id": "07913dad",
   "metadata": {},
   "outputs": [
    {
     "data": {
      "text/plain": [
       "array([0, 0, 0, 0, 0, 0, 0, 0, 0, 0, 0, 0, 0, 0, 0, 0, 0, 0, 0, 0, 0, 0,\n",
       "       0, 0, 0, 0, 0, 0, 0, 0, 0, 0, 0, 0, 0, 0, 0, 0, 0, 0, 0, 0, 0, 0,\n",
       "       0, 0, 0, 0, 0, 0, 1, 1, 1, 1, 1, 1, 1, 1, 1, 1, 1, 1, 1, 1, 1, 1,\n",
       "       1, 1, 1, 1, 1, 1, 1, 1, 1, 1, 1, 1, 1, 1, 1, 1, 1, 1, 1, 1, 1, 1,\n",
       "       1, 1, 1, 1, 1, 1, 1, 1, 1, 1, 1, 1, 2, 2, 2, 2, 2, 2, 2, 2, 2, 2,\n",
       "       2, 2, 2, 2, 2, 2, 2, 2, 2, 2, 2, 2, 2, 2, 2, 2, 2, 2, 2, 2, 2, 2,\n",
       "       2, 2, 2, 2, 2, 2, 2, 2, 2, 2, 2, 2, 2, 2, 2, 2, 2])"
      ]
     },
     "execution_count": 243,
     "metadata": {},
     "output_type": "execute_result"
    }
   ],
   "source": [
    "y"
   ]
  },
  {
   "cell_type": "code",
   "execution_count": 244,
   "id": "8759cc4b",
   "metadata": {},
   "outputs": [
    {
     "data": {
      "text/plain": [
       "(119, 4)"
      ]
     },
     "execution_count": 244,
     "metadata": {},
     "output_type": "execute_result"
    }
   ],
   "source": [
    "X_train.shape"
   ]
  },
  {
   "cell_type": "code",
   "execution_count": 245,
   "id": "2df3c29b",
   "metadata": {},
   "outputs": [],
   "source": [
    "# Lets us make uniform scaling of all features \n",
    "from sklearn.preprocessing import StandardScaler\n",
    "scaler = StandardScaler()\n",
    "X_train_trf = scaler.fit_transform(X_train)\n",
    "X_test_trf = scaler.transform(X_test)"
   ]
  },
  {
   "cell_type": "code",
   "execution_count": 246,
   "id": "16ab6018",
   "metadata": {},
   "outputs": [],
   "source": [
    "# One-hot encode the target labels\n",
    "y_train_encoded = to_categorical(y_train, num_classes=3)\n",
    "y_test_encoded = to_categorical(y_test, num_classes=3)"
   ]
  },
  {
   "cell_type": "markdown",
   "id": "6e98ca0c",
   "metadata": {},
   "source": [
    "### ANN model"
   ]
  },
  {
   "cell_type": "code",
   "execution_count": 249,
   "id": "bbba610a",
   "metadata": {},
   "outputs": [],
   "source": [
    "import tensorflow\n",
    "from tensorflow import keras\n",
    "from tensorflow.keras import Sequential\n",
    "from tensorflow.keras.layers import Dense"
   ]
  },
  {
   "cell_type": "code",
   "execution_count": 250,
   "id": "c83387ea",
   "metadata": {},
   "outputs": [],
   "source": [
    "# Define the model\n",
    "model = Sequential()\n",
    "model.add(Dense(11, activation=\"relu\", input_dim=4))\n",
    "model.add(Dense(11, activation=\"relu\"))\n",
    "model.add(Dense(3, activation='softmax'))  # Use softmax for multi-class classification"
   ]
  },
  {
   "cell_type": "code",
   "execution_count": 251,
   "id": "692358eb",
   "metadata": {},
   "outputs": [
    {
     "name": "stdout",
     "output_type": "stream",
     "text": [
      "Model: \"sequential_21\"\n",
      "_________________________________________________________________\n",
      " Layer (type)                Output Shape              Param #   \n",
      "=================================================================\n",
      " dense_53 (Dense)            (None, 11)                55        \n",
      "                                                                 \n",
      " dense_54 (Dense)            (None, 11)                132       \n",
      "                                                                 \n",
      " dense_55 (Dense)            (None, 3)                 36        \n",
      "                                                                 \n",
      "=================================================================\n",
      "Total params: 223 (892.00 Byte)\n",
      "Trainable params: 223 (892.00 Byte)\n",
      "Non-trainable params: 0 (0.00 Byte)\n",
      "_________________________________________________________________\n"
     ]
    }
   ],
   "source": [
    "model.summary()"
   ]
  },
  {
   "cell_type": "code",
   "execution_count": 252,
   "id": "78d7ac5e",
   "metadata": {},
   "outputs": [],
   "source": [
    "model.compile(optimizer='adam', loss='categorical_crossentropy', metrics=['accuracy'])"
   ]
  },
  {
   "cell_type": "code",
   "execution_count": 253,
   "id": "9e1ec4c2",
   "metadata": {},
   "outputs": [
    {
     "name": "stdout",
     "output_type": "stream",
     "text": [
      "Epoch 1/10\n",
      "4/4 [==============================] - 1s 11ms/step - loss: 1.1168 - accuracy: 0.3445\n",
      "Epoch 2/10\n",
      "4/4 [==============================] - 0s 9ms/step - loss: 1.1035 - accuracy: 0.3613\n",
      "Epoch 3/10\n",
      "4/4 [==============================] - 0s 8ms/step - loss: 1.0895 - accuracy: 0.3950\n",
      "Epoch 4/10\n",
      "4/4 [==============================] - 0s 5ms/step - loss: 1.0746 - accuracy: 0.4202\n",
      "Epoch 5/10\n",
      "4/4 [==============================] - 0s 5ms/step - loss: 1.0603 - accuracy: 0.4202\n",
      "Epoch 6/10\n",
      "4/4 [==============================] - 0s 6ms/step - loss: 1.0454 - accuracy: 0.4454\n",
      "Epoch 7/10\n",
      "4/4 [==============================] - 0s 11ms/step - loss: 1.0295 - accuracy: 0.4790\n",
      "Epoch 8/10\n",
      "4/4 [==============================] - 0s 11ms/step - loss: 1.0126 - accuracy: 0.5210\n",
      "Epoch 9/10\n",
      "4/4 [==============================] - 0s 7ms/step - loss: 0.9957 - accuracy: 0.5462\n",
      "Epoch 10/10\n",
      "4/4 [==============================] - 0s 7ms/step - loss: 0.9778 - accuracy: 0.5630\n"
     ]
    }
   ],
   "source": [
    "# Train the model\n",
    "history = model.fit(X_train_trf, y_train_encoded, epochs=10)"
   ]
  },
  {
   "cell_type": "code",
   "execution_count": 254,
   "id": "f31cce57",
   "metadata": {},
   "outputs": [
    {
     "name": "stdout",
     "output_type": "stream",
     "text": [
      "1/1 [==============================] - 0s 125ms/step\n",
      "[1 1 1 1 0 1 1 1 1 1 0 0 1 0 0 1 1 1 0 0 0 0 1 0 2 1 1 0 0 1]\n"
     ]
    }
   ],
   "source": [
    "# Predict the class probabilities\n",
    "y_log = model.predict(X_test_trf)\n",
    "\n",
    "# Convert probabilities to class labels\n",
    "y_pred = np.argmax(y_log, axis=1)\n",
    "\n",
    "print(y_pred)"
   ]
  },
  {
   "cell_type": "code",
   "execution_count": 255,
   "id": "3609045e",
   "metadata": {},
   "outputs": [
    {
     "data": {
      "text/plain": [
       "[array([[-0.11693245,  0.28098768,  0.17095074, -0.07787486,  0.28475848,\n",
       "         -0.5155509 ,  0.6560384 , -0.2569054 , -0.6211713 , -0.41679928,\n",
       "         -0.1434986 ],\n",
       "        [-0.53279185,  0.24113965, -0.09567976, -0.44601002,  0.38239673,\n",
       "         -0.21034454,  0.25975037, -0.1419975 , -0.22940612, -0.0277395 ,\n",
       "          0.60487056],\n",
       "        [-0.2710475 ,  0.17161758,  0.15341352,  0.2936715 , -0.5306211 ,\n",
       "         -0.23000917, -0.18632145,  0.21916597,  0.31811005,  0.5555874 ,\n",
       "         -0.547142  ],\n",
       "        [-0.08964843, -0.5964631 , -0.27717766, -0.566146  ,  0.33691317,\n",
       "          0.36230525,  0.465214  ,  0.151685  ,  0.1528512 ,  0.1963747 ,\n",
       "          0.21242541]], dtype=float32),\n",
       " array([-0.03206876,  0.03932831, -0.00772063, -0.03416687,  0.03580292,\n",
       "        -0.01287922,  0.03560624,  0.01800938,  0.03057254,  0.03505034,\n",
       "         0.04182546], dtype=float32)]"
      ]
     },
     "execution_count": 255,
     "metadata": {},
     "output_type": "execute_result"
    }
   ],
   "source": [
    "model.layers[0].get_weights()"
   ]
  },
  {
   "cell_type": "code",
   "execution_count": 256,
   "id": "d8de0418",
   "metadata": {},
   "outputs": [
    {
     "data": {
      "text/plain": [
       "[array([[-1.14851423e-01, -2.11797342e-01,  1.91659138e-01,\n",
       "          4.81809676e-01, -1.31867528e-01,  1.06995091e-01,\n",
       "          1.61237404e-01,  4.39219549e-03, -8.04301500e-02,\n",
       "          1.15569867e-01,  4.53911752e-01],\n",
       "        [ 1.58310801e-01, -9.81977209e-02, -4.82448041e-01,\n",
       "          4.74607572e-02,  4.87930238e-01,  1.48436889e-01,\n",
       "          4.69788313e-01,  6.31480590e-02,  1.91344798e-01,\n",
       "         -8.93616155e-02,  5.18666267e-01],\n",
       "        [ 1.35156855e-01, -4.01372164e-01, -1.45166308e-01,\n",
       "          3.76829691e-02, -4.34168667e-01, -8.04217309e-02,\n",
       "         -1.83682382e-01, -3.66266042e-01, -9.18000937e-02,\n",
       "          5.37804067e-01,  1.94343135e-01],\n",
       "        [ 4.54914451e-01, -4.54106450e-01,  4.90239859e-01,\n",
       "          3.80669624e-01, -3.28810215e-01, -1.22119464e-01,\n",
       "          4.19192314e-01, -2.85649776e-01, -3.43879648e-02,\n",
       "         -4.70733076e-01,  2.59890467e-01],\n",
       "        [-4.15628314e-01, -2.39358976e-01,  4.91023064e-01,\n",
       "         -1.00297824e-01, -1.72703192e-01, -5.66592626e-02,\n",
       "         -3.33617404e-02,  3.40268523e-01,  5.42755276e-02,\n",
       "          4.56577927e-01,  1.24389760e-01],\n",
       "        [ 2.50286072e-01,  2.01119706e-01,  1.34538695e-01,\n",
       "         -3.23253363e-01, -1.58663362e-01, -2.65354633e-01,\n",
       "          4.62643445e-01,  2.17094347e-01,  7.23058730e-02,\n",
       "         -2.05166936e-01,  1.35997711e-02],\n",
       "        [ 4.49065417e-01,  2.52777249e-01, -5.22378206e-01,\n",
       "         -1.14848830e-01, -1.35203511e-01, -5.62105589e-02,\n",
       "         -5.00926971e-01, -2.07236111e-01, -3.19594890e-01,\n",
       "         -1.31472826e-01,  4.69703048e-01],\n",
       "        [ 4.86136913e-01,  2.61823922e-01, -3.78084958e-01,\n",
       "         -4.90065105e-02,  2.82771826e-01, -4.14089143e-01,\n",
       "          2.97122777e-01,  1.73020676e-01,  3.77937853e-02,\n",
       "          1.07919753e-01, -7.71964043e-02],\n",
       "        [-3.62671874e-02,  4.72388446e-01,  5.26517630e-01,\n",
       "          2.86763340e-01, -1.29723549e-01, -2.21170560e-02,\n",
       "         -4.11665052e-01,  3.02574635e-01, -3.77122778e-04,\n",
       "          3.37007195e-01, -5.10777295e-01],\n",
       "        [ 3.79572511e-01, -2.23736882e-01,  9.61910263e-02,\n",
       "         -5.24615169e-01, -6.56127781e-02, -2.95751274e-01,\n",
       "          4.14074622e-02, -2.13039055e-01, -5.85274436e-02,\n",
       "         -2.64685124e-01, -1.78280398e-01],\n",
       "        [-2.45654006e-02, -2.43061781e-01, -2.65077859e-01,\n",
       "          6.32182583e-02, -7.09839389e-02,  4.30661321e-01,\n",
       "          1.48208544e-01, -2.88953949e-02, -2.42018653e-03,\n",
       "         -2.29203090e-01, -1.97162181e-01]], dtype=float32),\n",
       " array([ 0.01799295,  0.0419644 ,  0.0350787 , -0.03362053,  0.03514133,\n",
       "         0.04029554, -0.03629398,  0.03843486,  0.03871894,  0.03587514,\n",
       "         0.0097865 ], dtype=float32)]"
      ]
     },
     "execution_count": 256,
     "metadata": {},
     "output_type": "execute_result"
    }
   ],
   "source": [
    "model.layers[1].get_weights()"
   ]
  },
  {
   "cell_type": "code",
   "execution_count": 132,
   "id": "0d936be5",
   "metadata": {},
   "outputs": [
    {
     "name": "stdout",
     "output_type": "stream",
     "text": [
      "1/1 [==============================] - 0s 91ms/step\n"
     ]
    }
   ],
   "source": [
    "y_log=model.predict(X_test_trf)"
   ]
  },
  {
   "cell_type": "code",
   "execution_count": 257,
   "id": "3052f9b3",
   "metadata": {},
   "outputs": [
    {
     "data": {
      "text/plain": [
       "array([[0.28262392, 0.39907646, 0.3182996 ],\n",
       "       [0.25949323, 0.3750067 , 0.3655001 ],\n",
       "       [0.2754381 , 0.45882422, 0.26573765],\n",
       "       [0.28921878, 0.3816867 , 0.32909447],\n",
       "       [0.4647404 , 0.245117  , 0.2901426 ],\n",
       "       [0.23622152, 0.43959722, 0.32418126],\n",
       "       [0.24844617, 0.40892678, 0.34262705],\n",
       "       [0.30524823, 0.38700074, 0.30775097],\n",
       "       [0.2211328 , 0.44219792, 0.33666924],\n",
       "       [0.28190807, 0.433007  , 0.28508493],\n",
       "       [0.6182714 , 0.17163385, 0.21009478],\n",
       "       [0.52443266, 0.22550724, 0.25006008],\n",
       "       [0.29615647, 0.36410773, 0.33973578],\n",
       "       [0.42852718, 0.27139705, 0.3000758 ],\n",
       "       [0.5030439 , 0.23178354, 0.26517266],\n",
       "       [0.23409788, 0.44675425, 0.31914788],\n",
       "       [0.25818518, 0.41796854, 0.32384628],\n",
       "       [0.294023  , 0.38158378, 0.32439318],\n",
       "       [0.563896  , 0.21120928, 0.22489467],\n",
       "       [0.36892894, 0.28726098, 0.3438101 ],\n",
       "       [0.48311195, 0.2533025 , 0.26358557],\n",
       "       [0.3473287 , 0.32013717, 0.33253413],\n",
       "       [0.32250664, 0.34623078, 0.3312626 ],\n",
       "       [0.49398288, 0.25197816, 0.254039  ],\n",
       "       [0.30117255, 0.30250376, 0.3963237 ],\n",
       "       [0.2868522 , 0.41940612, 0.29374167],\n",
       "       [0.26765487, 0.4440542 , 0.288291  ],\n",
       "       [0.45607325, 0.26683316, 0.27709365],\n",
       "       [0.47029904, 0.26592156, 0.26377937],\n",
       "       [0.24983394, 0.46380833, 0.2863578 ]], dtype=float32)"
      ]
     },
     "execution_count": 257,
     "metadata": {},
     "output_type": "execute_result"
    }
   ],
   "source": [
    "y_log"
   ]
  },
  {
   "cell_type": "code",
   "execution_count": 259,
   "id": "158c27cf",
   "metadata": {},
   "outputs": [
    {
     "data": {
      "text/plain": [
       "0.7"
      ]
     },
     "execution_count": 259,
     "metadata": {},
     "output_type": "execute_result"
    }
   ],
   "source": [
    "from sklearn.metrics import accuracy_score\n",
    "accuracy_score(y_test,y_pred)"
   ]
  },
  {
   "cell_type": "code",
   "execution_count": 260,
   "id": "662ce020",
   "metadata": {},
   "outputs": [
    {
     "data": {
      "text/plain": [
       "{'loss': [1.1167808771133423,\n",
       "  1.103486180305481,\n",
       "  1.0895169973373413,\n",
       "  1.0745810270309448,\n",
       "  1.0602624416351318,\n",
       "  1.045393943786621,\n",
       "  1.0295106172561646,\n",
       "  1.01260507106781,\n",
       "  0.9957113862037659,\n",
       "  0.9778437614440918],\n",
       " 'accuracy': [0.3445378243923187,\n",
       "  0.3613445460796356,\n",
       "  0.3949579894542694,\n",
       "  0.42016807198524475,\n",
       "  0.42016807198524475,\n",
       "  0.4453781545162201,\n",
       "  0.4789915978908539,\n",
       "  0.5210084319114685,\n",
       "  0.5462185144424438,\n",
       "  0.5630252361297607]}"
      ]
     },
     "execution_count": 260,
     "metadata": {},
     "output_type": "execute_result"
    }
   ],
   "source": [
    "history.history"
   ]
  },
  {
   "cell_type": "code",
   "execution_count": 261,
   "id": "0dfb8c3b",
   "metadata": {},
   "outputs": [
    {
     "data": {
      "text/plain": [
       "[<matplotlib.lines.Line2D at 0x1d6b346f040>]"
      ]
     },
     "execution_count": 261,
     "metadata": {},
     "output_type": "execute_result"
    },
    {
     "data": {
      "image/png": "[encoded data removed]",
      "text/plain": [
       "<Figure size 640x480 with 1 Axes>"
      ]
     },
     "metadata": {},
     "output_type": "display_data"
    }
   ],
   "source": [
    "plt.plot(history.history[\"loss\"])"
   ]
  },
  {
   "cell_type": "code",
   "execution_count": null,
   "id": "13185ca6",
   "metadata": {},
   "outputs": [],
   "source": []
  }
 ],
 "metadata": {
  "kernelspec": {
   "display_name": "Python 3 (ipykernel)",
   "language": "python",
   "name": "python3"
  },
  "language_info": {
   "codemirror_mode": {
    "name": "ipython",
    "version": 3
   },
   "file_extension": ".py",
   "mimetype": "text/x-python",
   "name": "python",
   "nbconvert_exporter": "python",
   "pygments_lexer": "ipython3",
   "version": "3.10.9"
  }
 },
 "nbformat": 4,
 "nbformat_minor": 5
}
