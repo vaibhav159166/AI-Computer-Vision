{
 "cells": [
  {
   "cell_type": "code",
   "execution_count": 1,
   "id": "99d8aa1b-6e42-4cf3-9bb8-48d45116433a",
   "metadata": {},
   "outputs": [
    {
     "name": "stdout",
     "output_type": "stream",
     "text": [
      "WARNING:tensorflow:From C:\\Users\\Rahul Raje\\anaconda3\\envs\\vaibhav\\lib\\site-packages\\keras\\src\\losses.py:2976: The name tf.losses.sparse_softmax_cross_entropy is deprecated. Please use tf.compat.v1.losses.sparse_softmax_cross_entropy instead.\n",
      "\n"
     ]
    }
   ],
   "source": [
    "import tensorflow as tf\n",
    "from tensorflow.keras.models import Sequential\n",
    "from tensorflow.keras.layers import Dense\n",
    "from tensorflow.keras.optimizers import SGD,Adam,RMSprop,Adagrad\n",
    "import matplotlib.pyplot as plt"
   ]
  },
  {
   "cell_type": "code",
   "execution_count": 2,
   "id": "cb01658d-aaf4-4098-bf1a-07cd23ee9631",
   "metadata": {},
   "outputs": [
    {
     "data": {
      "text/plain": [
       "'\\nLoads the MNIST dataset, splitting it into traning and testing sets.\\n'"
      ]
     },
     "execution_count": 2,
     "metadata": {},
     "output_type": "execute_result"
    }
   ],
   "source": [
    "# Load dataset\n",
    "(X_train,y_train),(X_test,y_test)=tf.keras.datasets.mnist.load_data()\n",
    "\n",
    "'''\n",
    "Loads the MNIST dataset, splitting it into traning and testing sets.\n",
    "'''"
   ]
  },
  {
   "cell_type": "code",
   "execution_count": 3,
   "id": "64661b8a-e358-477d-80eb-faffaae47bfd",
   "metadata": {},
   "outputs": [
    {
     "data": {
      "text/plain": [
       "'\\nX_train contains 60000 images of size 28X28, then X_train.shape\\nwould be (60000,28,28).\\nX_train.shape[0] accesses the first elements of this training datset.\\nwhich represents the number of samples in the training dataset.\\nIn this example, X_train.shape[0] would be 600000\\n'"
      ]
     },
     "execution_count": 3,
     "metadata": {},
     "output_type": "execute_result"
    }
   ],
   "source": [
    "X_train=X_train.reshape(X_train.shape[0],-1).astype('float32')/255\n",
    "'''\n",
    "X_train contains 60000 images of size 28X28, then X_train.shape\n",
    "would be (60000,28,28).\n",
    "X_train.shape[0] accesses the first elements of this training datset.\n",
    "which represents the number of samples in the training dataset.\n",
    "In this example, X_train.shape[0] would be 600000\n",
    "'''"
   ]
  },
  {
   "cell_type": "code",
   "execution_count": 4,
   "id": "d49ca347-ca1a-46b4-87cc-4f144ab0289a",
   "metadata": {},
   "outputs": [],
   "source": [
    "X_test=X_test.reshape(X_test.shape[0],-1).astype('float32')/255"
   ]
  },
  {
   "cell_type": "code",
   "execution_count": 5,
   "id": "c6d69443-fa52-4fa8-8bce-2f77d38c8467",
   "metadata": {},
   "outputs": [],
   "source": [
    "# Define the model\n",
    "def create_model():\n",
    "    model=Sequential([\n",
    "        Dense(128,activation='relu',input_shape=(784,)),\n",
    "        Dense(64,activation='relu'),\n",
    "        Dense(10,activation='softmax')\n",
    "    ])\n",
    "    return model"
   ]
  },
  {
   "cell_type": "code",
   "execution_count": 6,
   "id": "abdde838-faa7-4d96-96d6-20a00c5da204",
   "metadata": {},
   "outputs": [],
   "source": [
    "# define optimizers\n",
    "optimizers={\n",
    "    'SGD':SGD(),\n",
    "    'Adam':Adam(),\n",
    "    'RMSprop':RMSprop(),\n",
    "    'Adagrad':Adagrad()\n",
    "}"
   ]
  },
  {
   "cell_type": "code",
   "execution_count": 7,
   "id": "88d7f5f9-37fc-41e2-8444-40e255454a7a",
   "metadata": {},
   "outputs": [
    {
     "name": "stdout",
     "output_type": "stream",
     "text": [
      "Training with SGD optimizer.....\n",
      "WARNING:tensorflow:From C:\\Users\\Rahul Raje\\anaconda3\\envs\\vaibhav\\lib\\site-packages\\keras\\src\\backend.py:873: The name tf.get_default_graph is deprecated. Please use tf.compat.v1.get_default_graph instead.\n",
      "\n",
      "WARNING:tensorflow:From C:\\Users\\Rahul Raje\\anaconda3\\envs\\vaibhav\\lib\\site-packages\\keras\\src\\utils\\tf_utils.py:492: The name tf.ragged.RaggedTensorValue is deprecated. Please use tf.compat.v1.ragged.RaggedTensorValue instead.\n",
      "\n",
      "WARNING:tensorflow:From C:\\Users\\Rahul Raje\\anaconda3\\envs\\vaibhav\\lib\\site-packages\\keras\\src\\engine\\base_layer_utils.py:384: The name tf.executing_eagerly_outside_functions is deprecated. Please use tf.compat.v1.executing_eagerly_outside_functions instead.\n",
      "\n",
      "Training with Adam optimizer.....\n",
      "Training with RMSprop optimizer.....\n",
      "Training with Adagrad optimizer.....\n"
     ]
    }
   ],
   "source": [
    "# Train the model\n",
    "history={}\n",
    "for optimizer_name,optimizer in optimizers.items():\n",
    "    print(f\"Training with {optimizer_name} optimizer.....\")\n",
    "    model=create_model()\n",
    "    model.compile(optimizer=optimizer,loss='sparse_categorical_crossentropy',metrics=['accuracy'])\n",
    "    history[optimizer_name]=model.fit(X_train,y_train,epochs=5,batch_size=32,validation_split=0.2,verbose=0)"
   ]
  },
  {
   "cell_type": "code",
   "execution_count": null,
   "id": "7c8734f8-bdd7-46ae-80bd-88670094055a",
   "metadata": {},
   "outputs": [],
   "source": []
  },
  {
   "cell_type": "code",
   "execution_count": null,
   "id": "aef07f7d-f78e-41ea-a51d-f709f8ae8919",
   "metadata": {},
   "outputs": [],
   "source": []
  }
 ],
 "metadata": {
  "kernelspec": {
   "display_name": "Python 3 (ipykernel)",
   "language": "python",
   "name": "python3"
  },
  "language_info": {
   "codemirror_mode": {
    "name": "ipython",
    "version": 3
   },
   "file_extension": ".py",
   "mimetype": "text/x-python",
   "name": "python",
   "nbconvert_exporter": "python",
   "pygments_lexer": "ipython3",
   "version": "3.10.9"
  }
 },
 "nbformat": 4,
 "nbformat_minor": 5
}
