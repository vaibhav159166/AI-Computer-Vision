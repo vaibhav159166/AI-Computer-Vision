{
 "cells": [
  {
   "cell_type": "code",
   "execution_count": 1,
   "id": "f772a5dc",
   "metadata": {},
   "outputs": [],
   "source": [
    "import pandas as pd\n",
    "import numpy as np"
   ]
  },
  {
   "cell_type": "code",
   "execution_count": 2,
   "id": "33b24a57",
   "metadata": {},
   "outputs": [],
   "source": [
    "df=pd.read_csv(\"D:/AI_New/ANN/Churn_Modelling.csv\")"
   ]
  },
  {
   "cell_type": "code",
   "execution_count": 3,
   "id": "6f7c7b0f",
   "metadata": {},
   "outputs": [
    {
     "data": {
      "text/html": [
       "<div>\n",
       "<style scoped>\n",
       "    .dataframe tbody tr th:only-of-type {\n",
       "        vertical-align: middle;\n",
       "    }\n",
       "\n",
       "    .dataframe tbody tr th {\n",
       "        vertical-align: top;\n",
       "    }\n",
       "\n",
       "    .dataframe thead th {\n",
       "        text-align: right;\n",
       "    }\n",
       "</style>\n",
       "<table border=\"1\" class=\"dataframe\">\n",
       "  <thead>\n",
       "    <tr style=\"text-align: right;\">\n",
       "      <th></th>\n",
       "      <th>RowNumber</th>\n",
       "      <th>CustomerId</th>\n",
       "      <th>Surname</th>\n",
       "      <th>CreditScore</th>\n",
       "      <th>Geography</th>\n",
       "      <th>Gender</th>\n",
       "      <th>Age</th>\n",
       "      <th>Tenure</th>\n",
       "      <th>Balance</th>\n",
       "      <th>NumOfProducts</th>\n",
       "      <th>HasCrCard</th>\n",
       "      <th>IsActiveMember</th>\n",
       "      <th>EstimatedSalary</th>\n",
       "      <th>Exited</th>\n",
       "    </tr>\n",
       "  </thead>\n",
       "  <tbody>\n",
       "    <tr>\n",
       "      <th>0</th>\n",
       "      <td>1</td>\n",
       "      <td>15634602</td>\n",
       "      <td>Hargrave</td>\n",
       "      <td>619</td>\n",
       "      <td>France</td>\n",
       "      <td>Female</td>\n",
       "      <td>42</td>\n",
       "      <td>2</td>\n",
       "      <td>0.00</td>\n",
       "      <td>1</td>\n",
       "      <td>1</td>\n",
       "      <td>1</td>\n",
       "      <td>101348.88</td>\n",
       "      <td>1</td>\n",
       "    </tr>\n",
       "    <tr>\n",
       "      <th>1</th>\n",
       "      <td>2</td>\n",
       "      <td>15647311</td>\n",
       "      <td>Hill</td>\n",
       "      <td>608</td>\n",
       "      <td>Spain</td>\n",
       "      <td>Female</td>\n",
       "      <td>41</td>\n",
       "      <td>1</td>\n",
       "      <td>83807.86</td>\n",
       "      <td>1</td>\n",
       "      <td>0</td>\n",
       "      <td>1</td>\n",
       "      <td>112542.58</td>\n",
       "      <td>0</td>\n",
       "    </tr>\n",
       "    <tr>\n",
       "      <th>2</th>\n",
       "      <td>3</td>\n",
       "      <td>15619304</td>\n",
       "      <td>Onio</td>\n",
       "      <td>502</td>\n",
       "      <td>France</td>\n",
       "      <td>Female</td>\n",
       "      <td>42</td>\n",
       "      <td>8</td>\n",
       "      <td>159660.80</td>\n",
       "      <td>3</td>\n",
       "      <td>1</td>\n",
       "      <td>0</td>\n",
       "      <td>113931.57</td>\n",
       "      <td>1</td>\n",
       "    </tr>\n",
       "    <tr>\n",
       "      <th>3</th>\n",
       "      <td>4</td>\n",
       "      <td>15701354</td>\n",
       "      <td>Boni</td>\n",
       "      <td>699</td>\n",
       "      <td>France</td>\n",
       "      <td>Female</td>\n",
       "      <td>39</td>\n",
       "      <td>1</td>\n",
       "      <td>0.00</td>\n",
       "      <td>2</td>\n",
       "      <td>0</td>\n",
       "      <td>0</td>\n",
       "      <td>93826.63</td>\n",
       "      <td>0</td>\n",
       "    </tr>\n",
       "    <tr>\n",
       "      <th>4</th>\n",
       "      <td>5</td>\n",
       "      <td>15737888</td>\n",
       "      <td>Mitchell</td>\n",
       "      <td>850</td>\n",
       "      <td>Spain</td>\n",
       "      <td>Female</td>\n",
       "      <td>43</td>\n",
       "      <td>2</td>\n",
       "      <td>125510.82</td>\n",
       "      <td>1</td>\n",
       "      <td>1</td>\n",
       "      <td>1</td>\n",
       "      <td>79084.10</td>\n",
       "      <td>0</td>\n",
       "    </tr>\n",
       "  </tbody>\n",
       "</table>\n",
       "</div>"
      ],
      "text/plain": [
       "   RowNumber  CustomerId   Surname  CreditScore Geography  Gender  Age  \\\n",
       "0          1    15634602  Hargrave          619    France  Female   42   \n",
       "1          2    15647311      Hill          608     Spain  Female   41   \n",
       "2          3    15619304      Onio          502    France  Female   42   \n",
       "3          4    15701354      Boni          699    France  Female   39   \n",
       "4          5    15737888  Mitchell          850     Spain  Female   43   \n",
       "\n",
       "   Tenure    Balance  NumOfProducts  HasCrCard  IsActiveMember  \\\n",
       "0       2       0.00              1          1               1   \n",
       "1       1   83807.86              1          0               1   \n",
       "2       8  159660.80              3          1               0   \n",
       "3       1       0.00              2          0               0   \n",
       "4       2  125510.82              1          1               1   \n",
       "\n",
       "   EstimatedSalary  Exited  \n",
       "0        101348.88       1  \n",
       "1        112542.58       0  \n",
       "2        113931.57       1  \n",
       "3         93826.63       0  \n",
       "4         79084.10       0  "
      ]
     },
     "execution_count": 3,
     "metadata": {},
     "output_type": "execute_result"
    }
   ],
   "source": [
    "df.head()"
   ]
  },
  {
   "cell_type": "code",
   "execution_count": 4,
   "id": "31ae4467",
   "metadata": {},
   "outputs": [
    {
     "data": {
      "text/plain": [
       "(10000, 14)"
      ]
     },
     "execution_count": 4,
     "metadata": {},
     "output_type": "execute_result"
    }
   ],
   "source": [
    "df.shape"
   ]
  },
  {
   "cell_type": "markdown",
   "id": "d25a1fa0",
   "metadata": {},
   "source": [
    "Total 10 thousand data points and 14 columns."
   ]
  },
  {
   "cell_type": "markdown",
   "id": "ef50d652",
   "metadata": {},
   "source": [
    "RowNumber CustomerID and surname are not useful, hence dropped"
   ]
  },
  {
   "cell_type": "code",
   "execution_count": 8,
   "id": "8df62872",
   "metadata": {},
   "outputs": [],
   "source": [
    "df.drop(columns=['RowNumber','CustomerId','Surname'],inplace=True)"
   ]
  },
  {
   "cell_type": "code",
   "execution_count": 9,
   "id": "b492cc70",
   "metadata": {},
   "outputs": [
    {
     "data": {
      "text/html": [
       "<div>\n",
       "<style scoped>\n",
       "    .dataframe tbody tr th:only-of-type {\n",
       "        vertical-align: middle;\n",
       "    }\n",
       "\n",
       "    .dataframe tbody tr th {\n",
       "        vertical-align: top;\n",
       "    }\n",
       "\n",
       "    .dataframe thead th {\n",
       "        text-align: right;\n",
       "    }\n",
       "</style>\n",
       "<table border=\"1\" class=\"dataframe\">\n",
       "  <thead>\n",
       "    <tr style=\"text-align: right;\">\n",
       "      <th></th>\n",
       "      <th>CreditScore</th>\n",
       "      <th>Geography</th>\n",
       "      <th>Gender</th>\n",
       "      <th>Age</th>\n",
       "      <th>Tenure</th>\n",
       "      <th>Balance</th>\n",
       "      <th>NumOfProducts</th>\n",
       "      <th>HasCrCard</th>\n",
       "      <th>IsActiveMember</th>\n",
       "      <th>EstimatedSalary</th>\n",
       "      <th>Exited</th>\n",
       "    </tr>\n",
       "  </thead>\n",
       "  <tbody>\n",
       "    <tr>\n",
       "      <th>0</th>\n",
       "      <td>619</td>\n",
       "      <td>France</td>\n",
       "      <td>Female</td>\n",
       "      <td>42</td>\n",
       "      <td>2</td>\n",
       "      <td>0.00</td>\n",
       "      <td>1</td>\n",
       "      <td>1</td>\n",
       "      <td>1</td>\n",
       "      <td>101348.88</td>\n",
       "      <td>1</td>\n",
       "    </tr>\n",
       "    <tr>\n",
       "      <th>1</th>\n",
       "      <td>608</td>\n",
       "      <td>Spain</td>\n",
       "      <td>Female</td>\n",
       "      <td>41</td>\n",
       "      <td>1</td>\n",
       "      <td>83807.86</td>\n",
       "      <td>1</td>\n",
       "      <td>0</td>\n",
       "      <td>1</td>\n",
       "      <td>112542.58</td>\n",
       "      <td>0</td>\n",
       "    </tr>\n",
       "    <tr>\n",
       "      <th>2</th>\n",
       "      <td>502</td>\n",
       "      <td>France</td>\n",
       "      <td>Female</td>\n",
       "      <td>42</td>\n",
       "      <td>8</td>\n",
       "      <td>159660.80</td>\n",
       "      <td>3</td>\n",
       "      <td>1</td>\n",
       "      <td>0</td>\n",
       "      <td>113931.57</td>\n",
       "      <td>1</td>\n",
       "    </tr>\n",
       "    <tr>\n",
       "      <th>3</th>\n",
       "      <td>699</td>\n",
       "      <td>France</td>\n",
       "      <td>Female</td>\n",
       "      <td>39</td>\n",
       "      <td>1</td>\n",
       "      <td>0.00</td>\n",
       "      <td>2</td>\n",
       "      <td>0</td>\n",
       "      <td>0</td>\n",
       "      <td>93826.63</td>\n",
       "      <td>0</td>\n",
       "    </tr>\n",
       "    <tr>\n",
       "      <th>4</th>\n",
       "      <td>850</td>\n",
       "      <td>Spain</td>\n",
       "      <td>Female</td>\n",
       "      <td>43</td>\n",
       "      <td>2</td>\n",
       "      <td>125510.82</td>\n",
       "      <td>1</td>\n",
       "      <td>1</td>\n",
       "      <td>1</td>\n",
       "      <td>79084.10</td>\n",
       "      <td>0</td>\n",
       "    </tr>\n",
       "  </tbody>\n",
       "</table>\n",
       "</div>"
      ],
      "text/plain": [
       "   CreditScore Geography  Gender  Age  Tenure    Balance  NumOfProducts  \\\n",
       "0          619    France  Female   42       2       0.00              1   \n",
       "1          608     Spain  Female   41       1   83807.86              1   \n",
       "2          502    France  Female   42       8  159660.80              3   \n",
       "3          699    France  Female   39       1       0.00              2   \n",
       "4          850     Spain  Female   43       2  125510.82              1   \n",
       "\n",
       "   HasCrCard  IsActiveMember  EstimatedSalary  Exited  \n",
       "0          1               1        101348.88       1  \n",
       "1          0               1        112542.58       0  \n",
       "2          1               0        113931.57       1  \n",
       "3          0               0         93826.63       0  \n",
       "4          1               1         79084.10       0  "
      ]
     },
     "execution_count": 9,
     "metadata": {},
     "output_type": "execute_result"
    }
   ],
   "source": [
    "df.head()"
   ]
  },
  {
   "cell_type": "code",
   "execution_count": 12,
   "id": "f8483ba5",
   "metadata": {},
   "outputs": [
    {
     "data": {
      "text/plain": [
       "CreditScore        0\n",
       "Geography          0\n",
       "Gender             0\n",
       "Age                0\n",
       "Tenure             0\n",
       "Balance            0\n",
       "NumOfProducts      0\n",
       "HasCrCard          0\n",
       "IsActiveMember     0\n",
       "EstimatedSalary    0\n",
       "Exited             0\n",
       "dtype: int64"
      ]
     },
     "execution_count": 12,
     "metadata": {},
     "output_type": "execute_result"
    }
   ],
   "source": [
    "df.isnull().sum()"
   ]
  },
  {
   "cell_type": "markdown",
   "id": "82e2c8fe",
   "metadata": {},
   "source": [
    "There are no null values"
   ]
  },
  {
   "cell_type": "code",
   "execution_count": 11,
   "id": "894d4c5b",
   "metadata": {},
   "outputs": [
    {
     "data": {
      "text/plain": [
       "0"
      ]
     },
     "execution_count": 11,
     "metadata": {},
     "output_type": "execute_result"
    }
   ],
   "source": [
    "df.duplicated().sum()"
   ]
  },
  {
   "cell_type": "markdown",
   "id": "22d3c6cf",
   "metadata": {},
   "source": [
    "There is 0 duplicate."
   ]
  },
  {
   "cell_type": "code",
   "execution_count": 6,
   "id": "5fb98e45",
   "metadata": {},
   "outputs": [
    {
     "name": "stdout",
     "output_type": "stream",
     "text": [
      "<class 'pandas.core.frame.DataFrame'>\n",
      "RangeIndex: 10000 entries, 0 to 9999\n",
      "Data columns (total 14 columns):\n",
      " #   Column           Non-Null Count  Dtype  \n",
      "---  ------           --------------  -----  \n",
      " 0   RowNumber        10000 non-null  int64  \n",
      " 1   CustomerId       10000 non-null  int64  \n",
      " 2   Surname          10000 non-null  object \n",
      " 3   CreditScore      10000 non-null  int64  \n",
      " 4   Geography        10000 non-null  object \n",
      " 5   Gender           10000 non-null  object \n",
      " 6   Age              10000 non-null  int64  \n",
      " 7   Tenure           10000 non-null  int64  \n",
      " 8   Balance          10000 non-null  float64\n",
      " 9   NumOfProducts    10000 non-null  int64  \n",
      " 10  HasCrCard        10000 non-null  int64  \n",
      " 11  IsActiveMember   10000 non-null  int64  \n",
      " 12  EstimatedSalary  10000 non-null  float64\n",
      " 13  Exited           10000 non-null  int64  \n",
      "dtypes: float64(2), int64(9), object(3)\n",
      "memory usage: 1.1+ MB\n"
     ]
    }
   ],
   "source": [
    "df.info()"
   ]
  },
  {
   "cell_type": "markdown",
   "id": "19fc8f2b",
   "metadata": {},
   "source": [
    "Gender and Geography are object type so we want to convert into numerical form"
   ]
  },
  {
   "cell_type": "code",
   "execution_count": 13,
   "id": "b76878ee",
   "metadata": {},
   "outputs": [
    {
     "data": {
      "text/plain": [
       "0    7963\n",
       "1    2037\n",
       "Name: Exited, dtype: int64"
      ]
     },
     "execution_count": 13,
     "metadata": {},
     "output_type": "execute_result"
    }
   ],
   "source": [
    "# Lets us check how many customers have left the bank\n",
    "df[\"Exited\"].value_counts()"
   ]
  },
  {
   "cell_type": "markdown",
   "id": "7df418cd",
   "metadata": {},
   "source": [
    "7963 customers have left the bank"
   ]
  },
  {
   "cell_type": "code",
   "execution_count": 14,
   "id": "234c65e2",
   "metadata": {},
   "outputs": [
    {
     "data": {
      "text/plain": [
       "France     5014\n",
       "Germany    2509\n",
       "Spain      2477\n",
       "Name: Geography, dtype: int64"
      ]
     },
     "execution_count": 14,
     "metadata": {},
     "output_type": "execute_result"
    }
   ],
   "source": [
    "# Lets check how many customers are from which geography\n",
    "df[\"Geography\"].value_counts()"
   ]
  },
  {
   "cell_type": "markdown",
   "id": "d66ca2ec",
   "metadata": {},
   "source": [
    "There are less customers from spain, more from France"
   ]
  },
  {
   "cell_type": "code",
   "execution_count": 16,
   "id": "78a3e29e",
   "metadata": {},
   "outputs": [
    {
     "data": {
      "text/plain": [
       "Male      5457\n",
       "Female    4543\n",
       "Name: Gender, dtype: int64"
      ]
     },
     "execution_count": 16,
     "metadata": {},
     "output_type": "execute_result"
    }
   ],
   "source": [
    "# Lets check how many males and how many females are there\n",
    "df[\"Gender\"].value_counts()"
   ]
  },
  {
   "cell_type": "code",
   "execution_count": 17,
   "id": "8869afae",
   "metadata": {},
   "outputs": [],
   "source": [
    "# We have convert geography and Gender which is an object type convert int"
   ]
  },
  {
   "cell_type": "code",
   "execution_count": 18,
   "id": "83579596",
   "metadata": {},
   "outputs": [],
   "source": [
    "df=pd.get_dummies(df,columns=['Geography','Gender'],drop_first=True)"
   ]
  },
  {
   "cell_type": "code",
   "execution_count": 19,
   "id": "a0a0f196",
   "metadata": {},
   "outputs": [
    {
     "data": {
      "text/html": [
       "<div>\n",
       "<style scoped>\n",
       "    .dataframe tbody tr th:only-of-type {\n",
       "        vertical-align: middle;\n",
       "    }\n",
       "\n",
       "    .dataframe tbody tr th {\n",
       "        vertical-align: top;\n",
       "    }\n",
       "\n",
       "    .dataframe thead th {\n",
       "        text-align: right;\n",
       "    }\n",
       "</style>\n",
       "<table border=\"1\" class=\"dataframe\">\n",
       "  <thead>\n",
       "    <tr style=\"text-align: right;\">\n",
       "      <th></th>\n",
       "      <th>CreditScore</th>\n",
       "      <th>Age</th>\n",
       "      <th>Tenure</th>\n",
       "      <th>Balance</th>\n",
       "      <th>NumOfProducts</th>\n",
       "      <th>HasCrCard</th>\n",
       "      <th>IsActiveMember</th>\n",
       "      <th>EstimatedSalary</th>\n",
       "      <th>Exited</th>\n",
       "      <th>Geography_Germany</th>\n",
       "      <th>Geography_Spain</th>\n",
       "      <th>Gender_Male</th>\n",
       "    </tr>\n",
       "  </thead>\n",
       "  <tbody>\n",
       "    <tr>\n",
       "      <th>0</th>\n",
       "      <td>619</td>\n",
       "      <td>42</td>\n",
       "      <td>2</td>\n",
       "      <td>0.00</td>\n",
       "      <td>1</td>\n",
       "      <td>1</td>\n",
       "      <td>1</td>\n",
       "      <td>101348.88</td>\n",
       "      <td>1</td>\n",
       "      <td>0</td>\n",
       "      <td>0</td>\n",
       "      <td>0</td>\n",
       "    </tr>\n",
       "    <tr>\n",
       "      <th>1</th>\n",
       "      <td>608</td>\n",
       "      <td>41</td>\n",
       "      <td>1</td>\n",
       "      <td>83807.86</td>\n",
       "      <td>1</td>\n",
       "      <td>0</td>\n",
       "      <td>1</td>\n",
       "      <td>112542.58</td>\n",
       "      <td>0</td>\n",
       "      <td>0</td>\n",
       "      <td>1</td>\n",
       "      <td>0</td>\n",
       "    </tr>\n",
       "    <tr>\n",
       "      <th>2</th>\n",
       "      <td>502</td>\n",
       "      <td>42</td>\n",
       "      <td>8</td>\n",
       "      <td>159660.80</td>\n",
       "      <td>3</td>\n",
       "      <td>1</td>\n",
       "      <td>0</td>\n",
       "      <td>113931.57</td>\n",
       "      <td>1</td>\n",
       "      <td>0</td>\n",
       "      <td>0</td>\n",
       "      <td>0</td>\n",
       "    </tr>\n",
       "    <tr>\n",
       "      <th>3</th>\n",
       "      <td>699</td>\n",
       "      <td>39</td>\n",
       "      <td>1</td>\n",
       "      <td>0.00</td>\n",
       "      <td>2</td>\n",
       "      <td>0</td>\n",
       "      <td>0</td>\n",
       "      <td>93826.63</td>\n",
       "      <td>0</td>\n",
       "      <td>0</td>\n",
       "      <td>0</td>\n",
       "      <td>0</td>\n",
       "    </tr>\n",
       "    <tr>\n",
       "      <th>4</th>\n",
       "      <td>850</td>\n",
       "      <td>43</td>\n",
       "      <td>2</td>\n",
       "      <td>125510.82</td>\n",
       "      <td>1</td>\n",
       "      <td>1</td>\n",
       "      <td>1</td>\n",
       "      <td>79084.10</td>\n",
       "      <td>0</td>\n",
       "      <td>0</td>\n",
       "      <td>1</td>\n",
       "      <td>0</td>\n",
       "    </tr>\n",
       "  </tbody>\n",
       "</table>\n",
       "</div>"
      ],
      "text/plain": [
       "   CreditScore  Age  Tenure    Balance  NumOfProducts  HasCrCard  \\\n",
       "0          619   42       2       0.00              1          1   \n",
       "1          608   41       1   83807.86              1          0   \n",
       "2          502   42       8  159660.80              3          1   \n",
       "3          699   39       1       0.00              2          0   \n",
       "4          850   43       2  125510.82              1          1   \n",
       "\n",
       "   IsActiveMember  EstimatedSalary  Exited  Geography_Germany  \\\n",
       "0               1        101348.88       1                  0   \n",
       "1               1        112542.58       0                  0   \n",
       "2               0        113931.57       1                  0   \n",
       "3               0         93826.63       0                  0   \n",
       "4               1         79084.10       0                  0   \n",
       "\n",
       "   Geography_Spain  Gender_Male  \n",
       "0                0            0  \n",
       "1                1            0  \n",
       "2                0            0  \n",
       "3                0            0  \n",
       "4                1            0  "
      ]
     },
     "execution_count": 19,
     "metadata": {},
     "output_type": "execute_result"
    }
   ],
   "source": [
    "df.head()"
   ]
  },
  {
   "cell_type": "markdown",
   "id": "3119c1f2",
   "metadata": {},
   "source": [
    "Here Geography france is droped and male column is dropped"
   ]
  },
  {
   "cell_type": "code",
   "execution_count": 22,
   "id": "1db984e9",
   "metadata": {},
   "outputs": [],
   "source": [
    "# Assign all features to X and target column as y\n",
    "# Divide the data into train and test\n",
    "X=df.drop(columns=[\"Exited\"])\n",
    "y=df[\"Exited\"].values\n",
    "\n",
    "from sklearn.model_selection import train_test_split\n",
    "X_train,X_test,y_train,y_test=train_test_split(X,y,test_size=0.2,random_state=0)"
   ]
  },
  {
   "cell_type": "markdown",
   "id": "b983c3de",
   "metadata": {},
   "source": [
    "80% data used for training and 20% for testing"
   ]
  },
  {
   "cell_type": "code",
   "execution_count": 23,
   "id": "26c32def",
   "metadata": {},
   "outputs": [
    {
     "data": {
      "text/html": [
       "<div>\n",
       "<style scoped>\n",
       "    .dataframe tbody tr th:only-of-type {\n",
       "        vertical-align: middle;\n",
       "    }\n",
       "\n",
       "    .dataframe tbody tr th {\n",
       "        vertical-align: top;\n",
       "    }\n",
       "\n",
       "    .dataframe thead th {\n",
       "        text-align: right;\n",
       "    }\n",
       "</style>\n",
       "<table border=\"1\" class=\"dataframe\">\n",
       "  <thead>\n",
       "    <tr style=\"text-align: right;\">\n",
       "      <th></th>\n",
       "      <th>CreditScore</th>\n",
       "      <th>Age</th>\n",
       "      <th>Tenure</th>\n",
       "      <th>Balance</th>\n",
       "      <th>NumOfProducts</th>\n",
       "      <th>HasCrCard</th>\n",
       "      <th>IsActiveMember</th>\n",
       "      <th>EstimatedSalary</th>\n",
       "      <th>Geography_Germany</th>\n",
       "      <th>Geography_Spain</th>\n",
       "      <th>Gender_Male</th>\n",
       "    </tr>\n",
       "  </thead>\n",
       "  <tbody>\n",
       "    <tr>\n",
       "      <th>0</th>\n",
       "      <td>619</td>\n",
       "      <td>42</td>\n",
       "      <td>2</td>\n",
       "      <td>0.00</td>\n",
       "      <td>1</td>\n",
       "      <td>1</td>\n",
       "      <td>1</td>\n",
       "      <td>101348.88</td>\n",
       "      <td>0</td>\n",
       "      <td>0</td>\n",
       "      <td>0</td>\n",
       "    </tr>\n",
       "    <tr>\n",
       "      <th>1</th>\n",
       "      <td>608</td>\n",
       "      <td>41</td>\n",
       "      <td>1</td>\n",
       "      <td>83807.86</td>\n",
       "      <td>1</td>\n",
       "      <td>0</td>\n",
       "      <td>1</td>\n",
       "      <td>112542.58</td>\n",
       "      <td>0</td>\n",
       "      <td>1</td>\n",
       "      <td>0</td>\n",
       "    </tr>\n",
       "    <tr>\n",
       "      <th>2</th>\n",
       "      <td>502</td>\n",
       "      <td>42</td>\n",
       "      <td>8</td>\n",
       "      <td>159660.80</td>\n",
       "      <td>3</td>\n",
       "      <td>1</td>\n",
       "      <td>0</td>\n",
       "      <td>113931.57</td>\n",
       "      <td>0</td>\n",
       "      <td>0</td>\n",
       "      <td>0</td>\n",
       "    </tr>\n",
       "    <tr>\n",
       "      <th>3</th>\n",
       "      <td>699</td>\n",
       "      <td>39</td>\n",
       "      <td>1</td>\n",
       "      <td>0.00</td>\n",
       "      <td>2</td>\n",
       "      <td>0</td>\n",
       "      <td>0</td>\n",
       "      <td>93826.63</td>\n",
       "      <td>0</td>\n",
       "      <td>0</td>\n",
       "      <td>0</td>\n",
       "    </tr>\n",
       "    <tr>\n",
       "      <th>4</th>\n",
       "      <td>850</td>\n",
       "      <td>43</td>\n",
       "      <td>2</td>\n",
       "      <td>125510.82</td>\n",
       "      <td>1</td>\n",
       "      <td>1</td>\n",
       "      <td>1</td>\n",
       "      <td>79084.10</td>\n",
       "      <td>0</td>\n",
       "      <td>1</td>\n",
       "      <td>0</td>\n",
       "    </tr>\n",
       "    <tr>\n",
       "      <th>...</th>\n",
       "      <td>...</td>\n",
       "      <td>...</td>\n",
       "      <td>...</td>\n",
       "      <td>...</td>\n",
       "      <td>...</td>\n",
       "      <td>...</td>\n",
       "      <td>...</td>\n",
       "      <td>...</td>\n",
       "      <td>...</td>\n",
       "      <td>...</td>\n",
       "      <td>...</td>\n",
       "    </tr>\n",
       "    <tr>\n",
       "      <th>9995</th>\n",
       "      <td>771</td>\n",
       "      <td>39</td>\n",
       "      <td>5</td>\n",
       "      <td>0.00</td>\n",
       "      <td>2</td>\n",
       "      <td>1</td>\n",
       "      <td>0</td>\n",
       "      <td>96270.64</td>\n",
       "      <td>0</td>\n",
       "      <td>0</td>\n",
       "      <td>1</td>\n",
       "    </tr>\n",
       "    <tr>\n",
       "      <th>9996</th>\n",
       "      <td>516</td>\n",
       "      <td>35</td>\n",
       "      <td>10</td>\n",
       "      <td>57369.61</td>\n",
       "      <td>1</td>\n",
       "      <td>1</td>\n",
       "      <td>1</td>\n",
       "      <td>101699.77</td>\n",
       "      <td>0</td>\n",
       "      <td>0</td>\n",
       "      <td>1</td>\n",
       "    </tr>\n",
       "    <tr>\n",
       "      <th>9997</th>\n",
       "      <td>709</td>\n",
       "      <td>36</td>\n",
       "      <td>7</td>\n",
       "      <td>0.00</td>\n",
       "      <td>1</td>\n",
       "      <td>0</td>\n",
       "      <td>1</td>\n",
       "      <td>42085.58</td>\n",
       "      <td>0</td>\n",
       "      <td>0</td>\n",
       "      <td>0</td>\n",
       "    </tr>\n",
       "    <tr>\n",
       "      <th>9998</th>\n",
       "      <td>772</td>\n",
       "      <td>42</td>\n",
       "      <td>3</td>\n",
       "      <td>75075.31</td>\n",
       "      <td>2</td>\n",
       "      <td>1</td>\n",
       "      <td>0</td>\n",
       "      <td>92888.52</td>\n",
       "      <td>1</td>\n",
       "      <td>0</td>\n",
       "      <td>1</td>\n",
       "    </tr>\n",
       "    <tr>\n",
       "      <th>9999</th>\n",
       "      <td>792</td>\n",
       "      <td>28</td>\n",
       "      <td>4</td>\n",
       "      <td>130142.79</td>\n",
       "      <td>1</td>\n",
       "      <td>1</td>\n",
       "      <td>0</td>\n",
       "      <td>38190.78</td>\n",
       "      <td>0</td>\n",
       "      <td>0</td>\n",
       "      <td>0</td>\n",
       "    </tr>\n",
       "  </tbody>\n",
       "</table>\n",
       "<p>10000 rows × 11 columns</p>\n",
       "</div>"
      ],
      "text/plain": [
       "      CreditScore  Age  Tenure    Balance  NumOfProducts  HasCrCard  \\\n",
       "0             619   42       2       0.00              1          1   \n",
       "1             608   41       1   83807.86              1          0   \n",
       "2             502   42       8  159660.80              3          1   \n",
       "3             699   39       1       0.00              2          0   \n",
       "4             850   43       2  125510.82              1          1   \n",
       "...           ...  ...     ...        ...            ...        ...   \n",
       "9995          771   39       5       0.00              2          1   \n",
       "9996          516   35      10   57369.61              1          1   \n",
       "9997          709   36       7       0.00              1          0   \n",
       "9998          772   42       3   75075.31              2          1   \n",
       "9999          792   28       4  130142.79              1          1   \n",
       "\n",
       "      IsActiveMember  EstimatedSalary  Geography_Germany  Geography_Spain  \\\n",
       "0                  1        101348.88                  0                0   \n",
       "1                  1        112542.58                  0                1   \n",
       "2                  0        113931.57                  0                0   \n",
       "3                  0         93826.63                  0                0   \n",
       "4                  1         79084.10                  0                1   \n",
       "...              ...              ...                ...              ...   \n",
       "9995               0         96270.64                  0                0   \n",
       "9996               1        101699.77                  0                0   \n",
       "9997               1         42085.58                  0                0   \n",
       "9998               0         92888.52                  1                0   \n",
       "9999               0         38190.78                  0                0   \n",
       "\n",
       "      Gender_Male  \n",
       "0               0  \n",
       "1               0  \n",
       "2               0  \n",
       "3               0  \n",
       "4               0  \n",
       "...           ...  \n",
       "9995            1  \n",
       "9996            1  \n",
       "9997            0  \n",
       "9998            1  \n",
       "9999            0  \n",
       "\n",
       "[10000 rows x 11 columns]"
      ]
     },
     "execution_count": 23,
     "metadata": {},
     "output_type": "execute_result"
    }
   ],
   "source": [
    "X"
   ]
  },
  {
   "cell_type": "code",
   "execution_count": 24,
   "id": "3fd02bc6",
   "metadata": {},
   "outputs": [
    {
     "data": {
      "text/plain": [
       "array([1, 0, 1, ..., 1, 1, 0], dtype=int64)"
      ]
     },
     "execution_count": 24,
     "metadata": {},
     "output_type": "execute_result"
    }
   ],
   "source": [
    "y"
   ]
  },
  {
   "cell_type": "code",
   "execution_count": 25,
   "id": "cfa931c2",
   "metadata": {},
   "outputs": [
    {
     "data": {
      "text/plain": [
       "(8000, 11)"
      ]
     },
     "execution_count": 25,
     "metadata": {},
     "output_type": "execute_result"
    }
   ],
   "source": [
    "X_train.shape"
   ]
  },
  {
   "cell_type": "markdown",
   "id": "a4d0a355",
   "metadata": {},
   "source": [
    "There are 11 columns"
   ]
  },
  {
   "cell_type": "code",
   "execution_count": 27,
   "id": "1be0f367",
   "metadata": {},
   "outputs": [],
   "source": [
    "# Lets us make uniform scaling of all features \n",
    "from sklearn.preprocessing import StandardScaler\n",
    "scaler=StandardScaler()\n",
    "\n",
    "X_train_trf=scaler.fit_transform(X_train)\n",
    "X_test_trf=scaler.fit_transform(X_test)"
   ]
  },
  {
   "cell_type": "markdown",
   "id": "1944441c",
   "metadata": {},
   "source": [
    "### Lets define ANN model"
   ]
  },
  {
   "cell_type": "code",
   "execution_count": 28,
   "id": "28734fe3",
   "metadata": {},
   "outputs": [
    {
     "name": "stdout",
     "output_type": "stream",
     "text": [
      "WARNING:tensorflow:From C:\\Users\\Rahul Raje\\anaconda3\\envs\\vaibhav\\lib\\site-packages\\keras\\src\\losses.py:2976: The name tf.losses.sparse_softmax_cross_entropy is deprecated. Please use tf.compat.v1.losses.sparse_softmax_cross_entropy instead.\n",
      "\n"
     ]
    }
   ],
   "source": [
    "import tensorflow\n",
    "from tensorflow import keras\n",
    "from tensorflow.keras import Sequential\n",
    "from tensorflow.keras.layers import Dense"
   ]
  },
  {
   "cell_type": "code",
   "execution_count": 29,
   "id": "75732e6b",
   "metadata": {},
   "outputs": [
    {
     "name": "stdout",
     "output_type": "stream",
     "text": [
      "WARNING:tensorflow:From C:\\Users\\Rahul Raje\\anaconda3\\envs\\vaibhav\\lib\\site-packages\\keras\\src\\backend.py:873: The name tf.get_default_graph is deprecated. Please use tf.compat.v1.get_default_graph instead.\n",
      "\n"
     ]
    }
   ],
   "source": [
    "model=Sequential()\n",
    "\n",
    "model.add(Dense(3,activation=\"sigmoid\",input_dim=11))\n",
    "\n",
    "model.add(Dense(1,activation='sigmoid'))"
   ]
  },
  {
   "cell_type": "code",
   "execution_count": 30,
   "id": "f52ce5a1",
   "metadata": {},
   "outputs": [
    {
     "name": "stdout",
     "output_type": "stream",
     "text": [
      "Model: \"sequential\"\n",
      "_________________________________________________________________\n",
      " Layer (type)                Output Shape              Param #   \n",
      "=================================================================\n",
      " dense (Dense)               (None, 3)                 36        \n",
      "                                                                 \n",
      " dense_1 (Dense)             (None, 1)                 4         \n",
      "                                                                 \n",
      "=================================================================\n",
      "Total params: 40 (160.00 Byte)\n",
      "Trainable params: 40 (160.00 Byte)\n",
      "Non-trainable params: 0 (0.00 Byte)\n",
      "_________________________________________________________________\n"
     ]
    }
   ],
   "source": [
    "model.summary()"
   ]
  },
  {
   "cell_type": "markdown",
   "id": "dfec1a28",
   "metadata": {},
   "source": [
    "There are 11 feartures and 3 links, 11*3=33 and 4 byes and + 3 links is 40 params"
   ]
  },
  {
   "cell_type": "markdown",
   "id": "f2f6c8ea",
   "metadata": {},
   "source": [
    "Params are weights"
   ]
  },
  {
   "cell_type": "code",
   "execution_count": 32,
   "id": "9a918d05",
   "metadata": {},
   "outputs": [
    {
     "name": "stdout",
     "output_type": "stream",
     "text": [
      "WARNING:tensorflow:From C:\\Users\\Rahul Raje\\anaconda3\\envs\\vaibhav\\lib\\site-packages\\keras\\src\\optimizers\\__init__.py:309: The name tf.train.Optimizer is deprecated. Please use tf.compat.v1.train.Optimizer instead.\n",
      "\n"
     ]
    }
   ],
   "source": [
    "model.compile(optimizer='Adam',loss=\"binary_crossentropy\")"
   ]
  },
  {
   "cell_type": "markdown",
   "id": "602a478a",
   "metadata": {},
   "source": [
    "binary_crossentropy is for classification 0 and 1"
   ]
  },
  {
   "cell_type": "markdown",
   "id": "64b0166d",
   "metadata": {},
   "source": [
    "### Lets Train the model"
   ]
  },
  {
   "cell_type": "code",
   "execution_count": 33,
   "id": "eefc79fd",
   "metadata": {},
   "outputs": [
    {
     "name": "stdout",
     "output_type": "stream",
     "text": [
      "Epoch 1/10\n",
      "WARNING:tensorflow:From C:\\Users\\Rahul Raje\\anaconda3\\envs\\vaibhav\\lib\\site-packages\\keras\\src\\utils\\tf_utils.py:492: The name tf.ragged.RaggedTensorValue is deprecated. Please use tf.compat.v1.ragged.RaggedTensorValue instead.\n",
      "\n",
      "250/250 [==============================] - 2s 3ms/step - loss: 0.6493\n",
      "Epoch 2/10\n",
      "250/250 [==============================] - 1s 3ms/step - loss: 0.5254\n",
      "Epoch 3/10\n",
      "250/250 [==============================] - 1s 3ms/step - loss: 0.4743\n",
      "Epoch 4/10\n",
      "250/250 [==============================] - 1s 4ms/step - loss: 0.4534\n",
      "Epoch 5/10\n",
      "250/250 [==============================] - 1s 4ms/step - loss: 0.4428\n",
      "Epoch 6/10\n",
      "250/250 [==============================] - 1s 4ms/step - loss: 0.4362\n",
      "Epoch 7/10\n",
      "250/250 [==============================] - 1s 4ms/step - loss: 0.4314\n",
      "Epoch 8/10\n",
      "250/250 [==============================] - 1s 4ms/step - loss: 0.4279\n",
      "Epoch 9/10\n",
      "250/250 [==============================] - 1s 3ms/step - loss: 0.4252\n",
      "Epoch 10/10\n",
      "250/250 [==============================] - 1s 4ms/step - loss: 0.4230\n"
     ]
    }
   ],
   "source": [
    "history=model.fit(X_train_trf,y_train,epochs=10)"
   ]
  },
  {
   "cell_type": "code",
   "execution_count": 34,
   "id": "c8d39688",
   "metadata": {},
   "outputs": [],
   "source": [
    "# Now lets check final weights after training"
   ]
  },
  {
   "cell_type": "code",
   "execution_count": 35,
   "id": "048e198b",
   "metadata": {},
   "outputs": [
    {
     "data": {
      "text/plain": [
       "[array([[-0.01864689, -0.1666277 ,  0.25628623],\n",
       "        [-0.67300975,  1.5703726 , -1.8660264 ],\n",
       "        [ 0.03931436, -0.0725702 ,  0.16848466],\n",
       "        [-0.4066638 , -0.06391317,  0.13485931],\n",
       "        [ 0.01206926,  0.17935467,  1.423815  ],\n",
       "        [-0.07170695, -0.0451343 ,  0.12522939],\n",
       "        [ 1.0268272 , -0.34391096,  0.24591167],\n",
       "        [-0.07971811, -0.09100414, -0.08427681],\n",
       "        [-0.8341382 ,  0.41587225, -0.329884  ],\n",
       "        [-0.12988168, -0.18753844, -0.23837496],\n",
       "        [ 0.55763084, -0.32261875,  0.21830772]], dtype=float32),\n",
       " array([ 0.5681464 , -0.39483124,  0.9631148 ], dtype=float32)]"
      ]
     },
     "execution_count": 35,
     "metadata": {},
     "output_type": "execute_result"
    }
   ],
   "source": [
    "model.layers[0].get_weights()"
   ]
  },
  {
   "cell_type": "code",
   "execution_count": 36,
   "id": "7a578276",
   "metadata": {},
   "outputs": [
    {
     "data": {
      "text/plain": [
       "[array([[-1.4892277 ],\n",
       "        [ 0.9487816 ],\n",
       "        [-0.95076805]], dtype=float32),\n",
       " array([-0.4683772], dtype=float32)]"
      ]
     },
     "execution_count": 36,
     "metadata": {},
     "output_type": "execute_result"
    }
   ],
   "source": [
    "model.layers[1].get_weights()"
   ]
  },
  {
   "cell_type": "markdown",
   "id": "cc525415",
   "metadata": {},
   "source": [
    "last arry for bayes"
   ]
  },
  {
   "cell_type": "code",
   "execution_count": null,
   "id": "9c86d6c8",
   "metadata": {},
   "outputs": [],
   "source": [
    "# There weights and 1 bias"
   ]
  },
  {
   "cell_type": "code",
   "execution_count": 37,
   "id": "b1321170",
   "metadata": {},
   "outputs": [
    {
     "name": "stdout",
     "output_type": "stream",
     "text": [
      "63/63 [==============================] - 0s 4ms/step\n"
     ]
    }
   ],
   "source": [
    "y_log=model.predict(X_test_trf)"
   ]
  },
  {
   "cell_type": "code",
   "execution_count": 38,
   "id": "6cc1b0a8",
   "metadata": {},
   "outputs": [
    {
     "data": {
      "text/plain": [
       "array([[0.23563428],\n",
       "       [0.35059962],\n",
       "       [0.16557501],\n",
       "       ...,\n",
       "       [0.14355192],\n",
       "       [0.12744015],\n",
       "       [0.21640386]], dtype=float32)"
      ]
     },
     "execution_count": 38,
     "metadata": {},
     "output_type": "execute_result"
    }
   ],
   "source": [
    "y_log"
   ]
  },
  {
   "cell_type": "markdown",
   "id": "3e7dcbc3",
   "metadata": {},
   "source": [
    "Because sigmoid output in Probabality, Result is in the form of Probability."
   ]
  },
  {
   "cell_type": "markdown",
   "id": "6f0727a6",
   "metadata": {},
   "source": [
    "If the output is less than 0.5 the output 0. greater than 0.5 then 1 means customer will retain the bank "
   ]
  },
  {
   "cell_type": "code",
   "execution_count": 40,
   "id": "48bf1cab",
   "metadata": {},
   "outputs": [],
   "source": [
    "y_pred=np.where(y_log>0.5,1,0)"
   ]
  },
  {
   "cell_type": "code",
   "execution_count": 41,
   "id": "c98e13fb",
   "metadata": {},
   "outputs": [
    {
     "data": {
      "text/plain": [
       "array([[0],\n",
       "       [0],\n",
       "       [0],\n",
       "       ...,\n",
       "       [0],\n",
       "       [0],\n",
       "       [0]])"
      ]
     },
     "execution_count": 41,
     "metadata": {},
     "output_type": "execute_result"
    }
   ],
   "source": [
    "y_pred"
   ]
  },
  {
   "cell_type": "code",
   "execution_count": 42,
   "id": "5cfdc8b1",
   "metadata": {},
   "outputs": [
    {
     "data": {
      "text/plain": [
       "0.818"
      ]
     },
     "execution_count": 42,
     "metadata": {},
     "output_type": "execute_result"
    }
   ],
   "source": [
    "from sklearn.metrics import accuracy_score\n",
    "accuracy_score(y_test,y_pred)"
   ]
  },
  {
   "cell_type": "markdown",
   "id": "25dca25e",
   "metadata": {},
   "source": [
    "### Lets increase number of nodes and layers also"
   ]
  },
  {
   "cell_type": "code",
   "execution_count": 44,
   "id": "5c68d718",
   "metadata": {},
   "outputs": [],
   "source": [
    "model=Sequential()\n",
    "\n",
    "model.add(Dense(11,activation=\"relu\",input_dim=11))\n",
    "model.add(Dense(11,activation=\"relu\",input_dim=11))\n",
    "# here added one more hidden layer\n",
    "\n",
    "model.add(Dense(1,activation='sigmoid'))"
   ]
  },
  {
   "cell_type": "code",
   "execution_count": 45,
   "id": "1702f107",
   "metadata": {},
   "outputs": [],
   "source": [
    "# 11X11+11 bias , 11X11+11 bias , 11X1+1 bias =276"
   ]
  },
  {
   "cell_type": "code",
   "execution_count": 46,
   "id": "526d374d",
   "metadata": {},
   "outputs": [
    {
     "name": "stdout",
     "output_type": "stream",
     "text": [
      "Model: \"sequential_2\"\n",
      "_________________________________________________________________\n",
      " Layer (type)                Output Shape              Param #   \n",
      "=================================================================\n",
      " dense_3 (Dense)             (None, 11)                132       \n",
      "                                                                 \n",
      " dense_4 (Dense)             (None, 11)                132       \n",
      "                                                                 \n",
      " dense_5 (Dense)             (None, 1)                 12        \n",
      "                                                                 \n",
      "=================================================================\n",
      "Total params: 276 (1.08 KB)\n",
      "Trainable params: 276 (1.08 KB)\n",
      "Non-trainable params: 0 (0.00 Byte)\n",
      "_________________________________________________________________\n"
     ]
    }
   ],
   "source": [
    "model.summary()"
   ]
  },
  {
   "cell_type": "markdown",
   "id": "9946ab8a",
   "metadata": {},
   "source": [
    "param means no. of weights"
   ]
  },
  {
   "cell_type": "code",
   "execution_count": 47,
   "id": "7ba1c078",
   "metadata": {},
   "outputs": [],
   "source": [
    "model.compile(optimizer='Adam',loss=\"binary_crossentropy\",metrics=['accuracy'])"
   ]
  },
  {
   "cell_type": "code",
   "execution_count": 48,
   "id": "3c61002b",
   "metadata": {},
   "outputs": [
    {
     "name": "stdout",
     "output_type": "stream",
     "text": [
      "Epoch 1/100\n",
      "WARNING:tensorflow:From C:\\Users\\Rahul Raje\\anaconda3\\envs\\vaibhav\\lib\\site-packages\\keras\\src\\engine\\base_layer_utils.py:384: The name tf.executing_eagerly_outside_functions is deprecated. Please use tf.compat.v1.executing_eagerly_outside_functions instead.\n",
      "\n",
      "200/200 [==============================] - 3s 7ms/step - loss: 0.5581 - accuracy: 0.7195 - val_loss: 0.4705 - val_accuracy: 0.7987\n",
      "Epoch 2/100\n",
      "200/200 [==============================] - 1s 4ms/step - loss: 0.4533 - accuracy: 0.7977 - val_loss: 0.4539 - val_accuracy: 0.7987\n",
      "Epoch 3/100\n",
      "200/200 [==============================] - 1s 4ms/step - loss: 0.4387 - accuracy: 0.8014 - val_loss: 0.4445 - val_accuracy: 0.8031\n",
      "Epoch 4/100\n",
      "200/200 [==============================] - 1s 4ms/step - loss: 0.4279 - accuracy: 0.8080 - val_loss: 0.4367 - val_accuracy: 0.8075\n",
      "Epoch 5/100\n",
      "200/200 [==============================] - 1s 4ms/step - loss: 0.4154 - accuracy: 0.8167 - val_loss: 0.4251 - val_accuracy: 0.8188\n",
      "Epoch 6/100\n",
      "200/200 [==============================] - 1s 5ms/step - loss: 0.4004 - accuracy: 0.8309 - val_loss: 0.4112 - val_accuracy: 0.8256\n",
      "Epoch 7/100\n",
      "200/200 [==============================] - 1s 4ms/step - loss: 0.3837 - accuracy: 0.8423 - val_loss: 0.3966 - val_accuracy: 0.8306\n",
      "Epoch 8/100\n",
      "200/200 [==============================] - 1s 4ms/step - loss: 0.3705 - accuracy: 0.8466 - val_loss: 0.3877 - val_accuracy: 0.8413\n",
      "Epoch 9/100\n",
      "200/200 [==============================] - 1s 5ms/step - loss: 0.3625 - accuracy: 0.8467 - val_loss: 0.3808 - val_accuracy: 0.8438\n",
      "Epoch 10/100\n",
      "200/200 [==============================] - 1s 4ms/step - loss: 0.3571 - accuracy: 0.8500 - val_loss: 0.3778 - val_accuracy: 0.8438\n",
      "Epoch 11/100\n",
      "200/200 [==============================] - 1s 4ms/step - loss: 0.3536 - accuracy: 0.8525 - val_loss: 0.3739 - val_accuracy: 0.8456\n",
      "Epoch 12/100\n",
      "200/200 [==============================] - 1s 4ms/step - loss: 0.3503 - accuracy: 0.8528 - val_loss: 0.3722 - val_accuracy: 0.8481\n",
      "Epoch 13/100\n",
      "200/200 [==============================] - 1s 4ms/step - loss: 0.3478 - accuracy: 0.8523 - val_loss: 0.3688 - val_accuracy: 0.8500\n",
      "Epoch 14/100\n",
      "200/200 [==============================] - 1s 4ms/step - loss: 0.3460 - accuracy: 0.8562 - val_loss: 0.3669 - val_accuracy: 0.8544\n",
      "Epoch 15/100\n",
      "200/200 [==============================] - 1s 4ms/step - loss: 0.3436 - accuracy: 0.8573 - val_loss: 0.3651 - val_accuracy: 0.8556\n",
      "Epoch 16/100\n",
      "200/200 [==============================] - 1s 5ms/step - loss: 0.3425 - accuracy: 0.8580 - val_loss: 0.3637 - val_accuracy: 0.8581\n",
      "Epoch 17/100\n",
      "200/200 [==============================] - 1s 5ms/step - loss: 0.3410 - accuracy: 0.8591 - val_loss: 0.3627 - val_accuracy: 0.8556\n",
      "Epoch 18/100\n",
      "200/200 [==============================] - 1s 5ms/step - loss: 0.3399 - accuracy: 0.8605 - val_loss: 0.3629 - val_accuracy: 0.8519\n",
      "Epoch 19/100\n",
      "200/200 [==============================] - 1s 5ms/step - loss: 0.3380 - accuracy: 0.8617 - val_loss: 0.3596 - val_accuracy: 0.8556\n",
      "Epoch 20/100\n",
      "200/200 [==============================] - 1s 5ms/step - loss: 0.3371 - accuracy: 0.8616 - val_loss: 0.3589 - val_accuracy: 0.8556\n",
      "Epoch 21/100\n",
      "200/200 [==============================] - 1s 5ms/step - loss: 0.3358 - accuracy: 0.8608 - val_loss: 0.3587 - val_accuracy: 0.8581\n",
      "Epoch 22/100\n",
      "200/200 [==============================] - 1s 5ms/step - loss: 0.3348 - accuracy: 0.8634 - val_loss: 0.3587 - val_accuracy: 0.8562\n",
      "Epoch 23/100\n",
      "200/200 [==============================] - 1s 5ms/step - loss: 0.3345 - accuracy: 0.8627 - val_loss: 0.3569 - val_accuracy: 0.8562\n",
      "Epoch 24/100\n",
      "200/200 [==============================] - 1s 4ms/step - loss: 0.3331 - accuracy: 0.8636 - val_loss: 0.3566 - val_accuracy: 0.8569\n",
      "Epoch 25/100\n",
      "200/200 [==============================] - 1s 4ms/step - loss: 0.3326 - accuracy: 0.8633 - val_loss: 0.3563 - val_accuracy: 0.8569\n",
      "Epoch 26/100\n",
      "200/200 [==============================] - 1s 4ms/step - loss: 0.3326 - accuracy: 0.8647 - val_loss: 0.3544 - val_accuracy: 0.8569\n",
      "Epoch 27/100\n",
      "200/200 [==============================] - 1s 4ms/step - loss: 0.3314 - accuracy: 0.8614 - val_loss: 0.3550 - val_accuracy: 0.8575\n",
      "Epoch 28/100\n",
      "200/200 [==============================] - 1s 4ms/step - loss: 0.3307 - accuracy: 0.8641 - val_loss: 0.3542 - val_accuracy: 0.8569\n",
      "Epoch 29/100\n",
      "200/200 [==============================] - 1s 4ms/step - loss: 0.3306 - accuracy: 0.8628 - val_loss: 0.3528 - val_accuracy: 0.8587\n",
      "Epoch 30/100\n",
      "200/200 [==============================] - 1s 4ms/step - loss: 0.3303 - accuracy: 0.8644 - val_loss: 0.3533 - val_accuracy: 0.8575\n",
      "Epoch 31/100\n",
      "200/200 [==============================] - 1s 4ms/step - loss: 0.3295 - accuracy: 0.8641 - val_loss: 0.3522 - val_accuracy: 0.8587\n",
      "Epoch 32/100\n",
      "200/200 [==============================] - 1s 4ms/step - loss: 0.3289 - accuracy: 0.8639 - val_loss: 0.3519 - val_accuracy: 0.8612\n",
      "Epoch 33/100\n",
      "200/200 [==============================] - 1s 4ms/step - loss: 0.3284 - accuracy: 0.8645 - val_loss: 0.3515 - val_accuracy: 0.8600\n",
      "Epoch 34/100\n",
      "200/200 [==============================] - 1s 5ms/step - loss: 0.3282 - accuracy: 0.8659 - val_loss: 0.3531 - val_accuracy: 0.8575\n",
      "Epoch 35/100\n",
      "200/200 [==============================] - 5s 25ms/step - loss: 0.3276 - accuracy: 0.8642 - val_loss: 0.3522 - val_accuracy: 0.8606\n",
      "Epoch 36/100\n",
      "200/200 [==============================] - 1s 6ms/step - loss: 0.3273 - accuracy: 0.8667 - val_loss: 0.3524 - val_accuracy: 0.8600\n",
      "Epoch 37/100\n",
      "200/200 [==============================] - 1s 5ms/step - loss: 0.3269 - accuracy: 0.8641 - val_loss: 0.3507 - val_accuracy: 0.8587\n",
      "Epoch 38/100\n",
      "200/200 [==============================] - 1s 4ms/step - loss: 0.3271 - accuracy: 0.8658 - val_loss: 0.3506 - val_accuracy: 0.8587\n",
      "Epoch 39/100\n",
      "200/200 [==============================] - 1s 4ms/step - loss: 0.3263 - accuracy: 0.8661 - val_loss: 0.3497 - val_accuracy: 0.8606\n",
      "Epoch 40/100\n",
      "200/200 [==============================] - 1s 5ms/step - loss: 0.3262 - accuracy: 0.8667 - val_loss: 0.3496 - val_accuracy: 0.8600\n",
      "Epoch 41/100\n",
      "200/200 [==============================] - 1s 5ms/step - loss: 0.3256 - accuracy: 0.8655 - val_loss: 0.3520 - val_accuracy: 0.8625\n",
      "Epoch 42/100\n",
      "200/200 [==============================] - 1s 4ms/step - loss: 0.3257 - accuracy: 0.8648 - val_loss: 0.3507 - val_accuracy: 0.8600\n",
      "Epoch 43/100\n",
      "200/200 [==============================] - 1s 4ms/step - loss: 0.3252 - accuracy: 0.8647 - val_loss: 0.3511 - val_accuracy: 0.8600\n",
      "Epoch 44/100\n",
      "200/200 [==============================] - 1s 4ms/step - loss: 0.3251 - accuracy: 0.8672 - val_loss: 0.3511 - val_accuracy: 0.8619\n",
      "Epoch 45/100\n",
      "200/200 [==============================] - 1s 4ms/step - loss: 0.3253 - accuracy: 0.8662 - val_loss: 0.3499 - val_accuracy: 0.8631\n",
      "Epoch 46/100\n",
      "200/200 [==============================] - 1s 4ms/step - loss: 0.3243 - accuracy: 0.8669 - val_loss: 0.3493 - val_accuracy: 0.8612\n",
      "Epoch 47/100\n",
      "200/200 [==============================] - 1s 4ms/step - loss: 0.3243 - accuracy: 0.8659 - val_loss: 0.3498 - val_accuracy: 0.8600\n",
      "Epoch 48/100\n",
      "200/200 [==============================] - 1s 4ms/step - loss: 0.3240 - accuracy: 0.8655 - val_loss: 0.3479 - val_accuracy: 0.8631\n",
      "Epoch 49/100\n",
      "200/200 [==============================] - 1s 5ms/step - loss: 0.3238 - accuracy: 0.8662 - val_loss: 0.3492 - val_accuracy: 0.8594\n",
      "Epoch 50/100\n",
      "200/200 [==============================] - 1s 5ms/step - loss: 0.3232 - accuracy: 0.8661 - val_loss: 0.3489 - val_accuracy: 0.8612\n",
      "Epoch 51/100\n",
      "200/200 [==============================] - 1s 5ms/step - loss: 0.3235 - accuracy: 0.8659 - val_loss: 0.3506 - val_accuracy: 0.8594\n",
      "Epoch 52/100\n",
      "200/200 [==============================] - 1s 4ms/step - loss: 0.3231 - accuracy: 0.8672 - val_loss: 0.3498 - val_accuracy: 0.8606\n",
      "Epoch 53/100\n",
      "200/200 [==============================] - 1s 5ms/step - loss: 0.3230 - accuracy: 0.8681 - val_loss: 0.3494 - val_accuracy: 0.8612\n",
      "Epoch 54/100\n",
      "200/200 [==============================] - 1s 5ms/step - loss: 0.3225 - accuracy: 0.8669 - val_loss: 0.3498 - val_accuracy: 0.8619\n",
      "Epoch 55/100\n",
      "200/200 [==============================] - 1s 5ms/step - loss: 0.3221 - accuracy: 0.8656 - val_loss: 0.3502 - val_accuracy: 0.8581\n",
      "Epoch 56/100\n",
      "200/200 [==============================] - 1s 4ms/step - loss: 0.3224 - accuracy: 0.8670 - val_loss: 0.3494 - val_accuracy: 0.8625\n",
      "Epoch 57/100\n",
      "200/200 [==============================] - 1s 4ms/step - loss: 0.3217 - accuracy: 0.8662 - val_loss: 0.3484 - val_accuracy: 0.8612\n",
      "Epoch 58/100\n",
      "200/200 [==============================] - 1s 4ms/step - loss: 0.3220 - accuracy: 0.8677 - val_loss: 0.3496 - val_accuracy: 0.8619\n",
      "Epoch 59/100\n",
      "200/200 [==============================] - 1s 5ms/step - loss: 0.3217 - accuracy: 0.8675 - val_loss: 0.3489 - val_accuracy: 0.8625\n",
      "Epoch 60/100\n",
      "200/200 [==============================] - 1s 5ms/step - loss: 0.3215 - accuracy: 0.8683 - val_loss: 0.3497 - val_accuracy: 0.8606\n",
      "Epoch 61/100\n",
      "200/200 [==============================] - 1s 5ms/step - loss: 0.3212 - accuracy: 0.8672 - val_loss: 0.3508 - val_accuracy: 0.8587\n",
      "Epoch 62/100\n",
      "200/200 [==============================] - 1s 4ms/step - loss: 0.3206 - accuracy: 0.8677 - val_loss: 0.3486 - val_accuracy: 0.8619\n",
      "Epoch 63/100\n",
      "200/200 [==============================] - 1s 5ms/step - loss: 0.3209 - accuracy: 0.8664 - val_loss: 0.3490 - val_accuracy: 0.8569\n",
      "Epoch 64/100\n",
      "200/200 [==============================] - 1s 4ms/step - loss: 0.3208 - accuracy: 0.8659 - val_loss: 0.3494 - val_accuracy: 0.8606\n",
      "Epoch 65/100\n",
      "200/200 [==============================] - 1s 4ms/step - loss: 0.3198 - accuracy: 0.8672 - val_loss: 0.3486 - val_accuracy: 0.8587\n",
      "Epoch 66/100\n",
      "200/200 [==============================] - 1s 4ms/step - loss: 0.3202 - accuracy: 0.8683 - val_loss: 0.3482 - val_accuracy: 0.8619\n",
      "Epoch 67/100\n",
      "200/200 [==============================] - 1s 6ms/step - loss: 0.3199 - accuracy: 0.8684 - val_loss: 0.3501 - val_accuracy: 0.8594\n",
      "Epoch 68/100\n",
      "200/200 [==============================] - 1s 6ms/step - loss: 0.3197 - accuracy: 0.8666 - val_loss: 0.3514 - val_accuracy: 0.8581\n",
      "Epoch 69/100\n",
      "200/200 [==============================] - 1s 6ms/step - loss: 0.3199 - accuracy: 0.8692 - val_loss: 0.3482 - val_accuracy: 0.8600\n",
      "Epoch 70/100\n",
      "200/200 [==============================] - 1s 5ms/step - loss: 0.3199 - accuracy: 0.8683 - val_loss: 0.3480 - val_accuracy: 0.8562\n",
      "Epoch 71/100\n",
      "200/200 [==============================] - 1s 5ms/step - loss: 0.3195 - accuracy: 0.8689 - val_loss: 0.3536 - val_accuracy: 0.8556\n",
      "Epoch 72/100\n",
      "200/200 [==============================] - 1s 5ms/step - loss: 0.3198 - accuracy: 0.8670 - val_loss: 0.3496 - val_accuracy: 0.8606\n",
      "Epoch 73/100\n",
      "200/200 [==============================] - 1s 4ms/step - loss: 0.3188 - accuracy: 0.8692 - val_loss: 0.3502 - val_accuracy: 0.8600\n",
      "Epoch 74/100\n",
      "200/200 [==============================] - 1s 4ms/step - loss: 0.3191 - accuracy: 0.8659 - val_loss: 0.3468 - val_accuracy: 0.8600\n",
      "Epoch 75/100\n",
      "200/200 [==============================] - 1s 4ms/step - loss: 0.3190 - accuracy: 0.8686 - val_loss: 0.3490 - val_accuracy: 0.8556\n",
      "Epoch 76/100\n",
      "200/200 [==============================] - 1s 4ms/step - loss: 0.3183 - accuracy: 0.8698 - val_loss: 0.3502 - val_accuracy: 0.8594\n",
      "Epoch 77/100\n",
      "200/200 [==============================] - 1s 4ms/step - loss: 0.3181 - accuracy: 0.8677 - val_loss: 0.3481 - val_accuracy: 0.8581\n",
      "Epoch 78/100\n",
      "200/200 [==============================] - 1s 5ms/step - loss: 0.3182 - accuracy: 0.8681 - val_loss: 0.3493 - val_accuracy: 0.8594\n",
      "Epoch 79/100\n",
      "200/200 [==============================] - 1s 4ms/step - loss: 0.3185 - accuracy: 0.8694 - val_loss: 0.3496 - val_accuracy: 0.8575\n",
      "Epoch 80/100\n",
      "200/200 [==============================] - 1s 4ms/step - loss: 0.3178 - accuracy: 0.8695 - val_loss: 0.3542 - val_accuracy: 0.8519\n",
      "Epoch 81/100\n",
      "200/200 [==============================] - 1s 4ms/step - loss: 0.3179 - accuracy: 0.8684 - val_loss: 0.3476 - val_accuracy: 0.8594\n",
      "Epoch 82/100\n",
      "200/200 [==============================] - 1s 4ms/step - loss: 0.3179 - accuracy: 0.8684 - val_loss: 0.3516 - val_accuracy: 0.8575\n",
      "Epoch 83/100\n",
      "200/200 [==============================] - 1s 4ms/step - loss: 0.3177 - accuracy: 0.8670 - val_loss: 0.3482 - val_accuracy: 0.8562\n",
      "Epoch 84/100\n",
      "200/200 [==============================] - 1s 5ms/step - loss: 0.3180 - accuracy: 0.8673 - val_loss: 0.3509 - val_accuracy: 0.8581\n",
      "Epoch 85/100\n",
      "200/200 [==============================] - 1s 5ms/step - loss: 0.3179 - accuracy: 0.8680 - val_loss: 0.3517 - val_accuracy: 0.8594\n",
      "Epoch 86/100\n",
      "200/200 [==============================] - 1s 5ms/step - loss: 0.3178 - accuracy: 0.8687 - val_loss: 0.3489 - val_accuracy: 0.8581\n",
      "Epoch 87/100\n",
      "200/200 [==============================] - 1s 5ms/step - loss: 0.3173 - accuracy: 0.8694 - val_loss: 0.3522 - val_accuracy: 0.8594\n",
      "Epoch 88/100\n",
      "200/200 [==============================] - 1s 5ms/step - loss: 0.3174 - accuracy: 0.8700 - val_loss: 0.3522 - val_accuracy: 0.8556\n",
      "Epoch 89/100\n",
      "200/200 [==============================] - 1s 5ms/step - loss: 0.3166 - accuracy: 0.8705 - val_loss: 0.3512 - val_accuracy: 0.8550\n",
      "Epoch 90/100\n",
      "200/200 [==============================] - 1s 5ms/step - loss: 0.3170 - accuracy: 0.8700 - val_loss: 0.3511 - val_accuracy: 0.8581\n",
      "Epoch 91/100\n",
      "200/200 [==============================] - 1s 4ms/step - loss: 0.3166 - accuracy: 0.8689 - val_loss: 0.3510 - val_accuracy: 0.8562\n",
      "Epoch 92/100\n",
      "200/200 [==============================] - 1s 4ms/step - loss: 0.3167 - accuracy: 0.8703 - val_loss: 0.3523 - val_accuracy: 0.8575\n",
      "Epoch 93/100\n",
      "200/200 [==============================] - 1s 4ms/step - loss: 0.3166 - accuracy: 0.8694 - val_loss: 0.3519 - val_accuracy: 0.8600\n",
      "Epoch 94/100\n",
      "200/200 [==============================] - 1s 4ms/step - loss: 0.3168 - accuracy: 0.8677 - val_loss: 0.3516 - val_accuracy: 0.8562\n",
      "Epoch 95/100\n",
      "200/200 [==============================] - 1s 4ms/step - loss: 0.3163 - accuracy: 0.8695 - val_loss: 0.3524 - val_accuracy: 0.8562\n",
      "Epoch 96/100\n",
      "200/200 [==============================] - 1s 4ms/step - loss: 0.3160 - accuracy: 0.8687 - val_loss: 0.3506 - val_accuracy: 0.8587\n",
      "Epoch 97/100\n",
      "200/200 [==============================] - 1s 4ms/step - loss: 0.3163 - accuracy: 0.8684 - val_loss: 0.3529 - val_accuracy: 0.8562\n",
      "Epoch 98/100\n",
      "200/200 [==============================] - 1s 4ms/step - loss: 0.3154 - accuracy: 0.8708 - val_loss: 0.3514 - val_accuracy: 0.8600\n",
      "Epoch 99/100\n",
      "200/200 [==============================] - 1s 4ms/step - loss: 0.3157 - accuracy: 0.8708 - val_loss: 0.3513 - val_accuracy: 0.8556\n",
      "Epoch 100/100\n",
      "200/200 [==============================] - 1s 4ms/step - loss: 0.3154 - accuracy: 0.8703 - val_loss: 0.3499 - val_accuracy: 0.8600\n"
     ]
    }
   ],
   "source": [
    "history=model.fit(X_train_trf,y_train,epochs=100,validation_split=0.2)"
   ]
  },
  {
   "cell_type": "code",
   "execution_count": 49,
   "id": "f138ec07",
   "metadata": {},
   "outputs": [
    {
     "data": {
      "text/plain": [
       "[array([[-0.13317573, -0.34503758, -0.50585157,  0.13345869,  0.12729256,\n",
       "          0.7297891 , -0.0237096 ,  0.09612825,  0.08398664, -0.29572257,\n",
       "          0.10158812],\n",
       "        [-0.46805698, -0.12227841, -0.13565029, -0.10213346, -0.3243428 ,\n",
       "          0.25726455, -0.00564077, -0.9457105 ,  0.14899388, -0.14893802,\n",
       "          0.66146684],\n",
       "        [-0.35024008, -0.28088933, -0.40961188, -0.06023028, -0.1903987 ,\n",
       "         -0.08868726, -0.07323895, -0.01600787, -0.09197584,  0.42388043,\n",
       "         -0.0101824 ],\n",
       "        [ 0.11471284, -0.6096463 , -0.16064812,  0.17015052, -0.7277483 ,\n",
       "         -0.73230755,  0.7153583 ,  0.0374084 , -0.25726098, -0.8594811 ,\n",
       "         -0.45377862],\n",
       "        [ 0.14390717,  0.32494077,  0.49591476,  1.184661  , -1.0528297 ,\n",
       "          0.02578762, -0.5344352 , -0.01742215, -0.5107414 ,  0.22769104,\n",
       "         -0.21424958],\n",
       "        [ 0.7238284 , -0.2676057 ,  0.49159142,  0.02994942,  0.16723718,\n",
       "         -0.03862283,  0.2962513 ,  0.01863499, -0.13452679, -0.111844  ,\n",
       "          0.53094774],\n",
       "        [ 0.06233579,  0.7369264 , -0.32664895, -0.02807087, -0.01215845,\n",
       "          0.4212962 ,  0.18931703, -0.3905891 , -0.70866597,  0.05702658,\n",
       "          0.6742767 ],\n",
       "        [-0.13656564, -0.43564013, -0.18273401, -0.2027633 , -0.12089837,\n",
       "          0.2836366 , -0.36312115,  0.0117045 ,  0.32380116, -0.83253574,\n",
       "         -0.1208372 ],\n",
       "        [ 0.5045682 , -0.09513538,  0.14496504, -0.21577923,  0.23506522,\n",
       "         -0.5775029 ,  0.6960304 , -0.06231386,  0.07247172, -0.95642644,\n",
       "          0.31822032],\n",
       "        [ 0.5129702 , -0.02531078,  0.26279122,  0.11261041, -0.09796258,\n",
       "          0.29161677,  0.08569594, -0.13918667,  0.05247444,  0.17138459,\n",
       "         -0.49113062],\n",
       "        [ 0.03602364,  0.3214126 ,  0.11521396, -0.05868013, -0.02500346,\n",
       "          0.3059844 , -0.13527589,  0.04446143,  0.17070247, -0.07875374,\n",
       "          0.07580686]], dtype=float32),\n",
       " array([ 0.596385  ,  0.6060554 , -0.20726916, -0.6351194 ,  0.23206829,\n",
       "         0.28344926,  0.15484574,  1.2108927 ,  0.20337722,  0.21743402,\n",
       "        -0.17695124], dtype=float32)]"
      ]
     },
     "execution_count": 49,
     "metadata": {},
     "output_type": "execute_result"
    }
   ],
   "source": [
    "model.layers[0].get_weights()"
   ]
  },
  {
   "cell_type": "code",
   "execution_count": 51,
   "id": "41c7d02e",
   "metadata": {},
   "outputs": [
    {
     "data": {
      "text/plain": [
       "[array([[ 0.76927346],\n",
       "        [-1.0665364 ],\n",
       "        [-0.81918395],\n",
       "        [ 2.1694348 ],\n",
       "        [ 0.9376182 ],\n",
       "        [-0.7879079 ],\n",
       "        [ 0.4649025 ],\n",
       "        [ 0.8889175 ],\n",
       "        [-0.75232106],\n",
       "        [ 0.5955177 ],\n",
       "        [ 0.62045884]], dtype=float32),\n",
       " array([-0.13008544], dtype=float32)]"
      ]
     },
     "execution_count": 51,
     "metadata": {},
     "output_type": "execute_result"
    }
   ],
   "source": [
    "model.layers[2].get_weights()"
   ]
  },
  {
   "cell_type": "code",
   "execution_count": 59,
   "id": "9a82bd4a",
   "metadata": {},
   "outputs": [
    {
     "name": "stdout",
     "output_type": "stream",
     "text": [
      "63/63 [==============================] - 0s 4ms/step\n"
     ]
    }
   ],
   "source": [
    "y_log=model.predict(X_test_trf)"
   ]
  },
  {
   "cell_type": "code",
   "execution_count": 60,
   "id": "ed8d8bff",
   "metadata": {},
   "outputs": [],
   "source": [
    "y_pred=np.where(y_log>0.5,1,0)"
   ]
  },
  {
   "cell_type": "code",
   "execution_count": 61,
   "id": "41f60af9",
   "metadata": {},
   "outputs": [
    {
     "data": {
      "text/plain": [
       "array([[0],\n",
       "       [0],\n",
       "       [0],\n",
       "       ...,\n",
       "       [0],\n",
       "       [0],\n",
       "       [0]])"
      ]
     },
     "execution_count": 61,
     "metadata": {},
     "output_type": "execute_result"
    }
   ],
   "source": [
    "y_pred"
   ]
  },
  {
   "cell_type": "code",
   "execution_count": 62,
   "id": "3ade2d92",
   "metadata": {},
   "outputs": [
    {
     "data": {
      "text/plain": [
       "0.859"
      ]
     },
     "execution_count": 62,
     "metadata": {},
     "output_type": "execute_result"
    }
   ],
   "source": [
    "from sklearn.metrics import accuracy_score\n",
    "accuracy_score(y_test,y_pred)"
   ]
  },
  {
   "cell_type": "code",
   "execution_count": 63,
   "id": "1bb9ac7d",
   "metadata": {},
   "outputs": [
    {
     "data": {
      "text/plain": [
       "{'loss': [0.5581236481666565,\n",
       "  0.45326656103134155,\n",
       "  0.43867966532707214,\n",
       "  0.4278590679168701,\n",
       "  0.4153832495212555,\n",
       "  0.40036383271217346,\n",
       "  0.3837074935436249,\n",
       "  0.3705148994922638,\n",
       "  0.3625449240207672,\n",
       "  0.35705867409706116,\n",
       "  0.35360705852508545,\n",
       "  0.3502940237522125,\n",
       "  0.34780558943748474,\n",
       "  0.34600669145584106,\n",
       "  0.3436381220817566,\n",
       "  0.3425367772579193,\n",
       "  0.34099024534225464,\n",
       "  0.33991318941116333,\n",
       "  0.3380192816257477,\n",
       "  0.33705782890319824,\n",
       "  0.3358369767665863,\n",
       "  0.33483174443244934,\n",
       "  0.33445191383361816,\n",
       "  0.3331163823604584,\n",
       "  0.3326011896133423,\n",
       "  0.3325832486152649,\n",
       "  0.3314308524131775,\n",
       "  0.33069610595703125,\n",
       "  0.3306368291378021,\n",
       "  0.33027294278144836,\n",
       "  0.3295401632785797,\n",
       "  0.3288973569869995,\n",
       "  0.3283933997154236,\n",
       "  0.3282449245452881,\n",
       "  0.32763993740081787,\n",
       "  0.327263742685318,\n",
       "  0.32694894075393677,\n",
       "  0.32705673575401306,\n",
       "  0.32626399397850037,\n",
       "  0.3262454569339752,\n",
       "  0.32562899589538574,\n",
       "  0.32574793696403503,\n",
       "  0.32521820068359375,\n",
       "  0.32513320446014404,\n",
       "  0.32525670528411865,\n",
       "  0.32428810000419617,\n",
       "  0.32428181171417236,\n",
       "  0.32395458221435547,\n",
       "  0.3237537443637848,\n",
       "  0.32318904995918274,\n",
       "  0.3234668970108032,\n",
       "  0.32308560609817505,\n",
       "  0.32302817702293396,\n",
       "  0.32247409224510193,\n",
       "  0.32212409377098083,\n",
       "  0.32238495349884033,\n",
       "  0.32171735167503357,\n",
       "  0.3219669461250305,\n",
       "  0.32166898250579834,\n",
       "  0.32150253653526306,\n",
       "  0.3212136924266815,\n",
       "  0.32056573033332825,\n",
       "  0.3209047317504883,\n",
       "  0.3208182454109192,\n",
       "  0.3198219835758209,\n",
       "  0.320181667804718,\n",
       "  0.3199484944343567,\n",
       "  0.31970709562301636,\n",
       "  0.3198589086532593,\n",
       "  0.3198825418949127,\n",
       "  0.3194674551486969,\n",
       "  0.319828063249588,\n",
       "  0.318846732378006,\n",
       "  0.31910240650177,\n",
       "  0.31904336810112,\n",
       "  0.31834137439727783,\n",
       "  0.3180544376373291,\n",
       "  0.3182145953178406,\n",
       "  0.3184984624385834,\n",
       "  0.31778448820114136,\n",
       "  0.3179034888744354,\n",
       "  0.317855566740036,\n",
       "  0.31765830516815186,\n",
       "  0.31802263855934143,\n",
       "  0.3179216980934143,\n",
       "  0.31780070066452026,\n",
       "  0.31726035475730896,\n",
       "  0.3173500895500183,\n",
       "  0.31662485003471375,\n",
       "  0.3170442283153534,\n",
       "  0.31659188866615295,\n",
       "  0.31668177247047424,\n",
       "  0.31660059094429016,\n",
       "  0.3167567551136017,\n",
       "  0.316256046295166,\n",
       "  0.3160366415977478,\n",
       "  0.31630903482437134,\n",
       "  0.3153800070285797,\n",
       "  0.3157069683074951,\n",
       "  0.3153795301914215],\n",
       " 'accuracy': [0.719531238079071,\n",
       "  0.797656238079071,\n",
       "  0.8014062643051147,\n",
       "  0.8079687356948853,\n",
       "  0.8167187571525574,\n",
       "  0.8309375047683716,\n",
       "  0.8423437476158142,\n",
       "  0.8465625047683716,\n",
       "  0.8467187285423279,\n",
       "  0.8500000238418579,\n",
       "  0.8525000214576721,\n",
       "  0.8528125286102295,\n",
       "  0.852343738079071,\n",
       "  0.856249988079071,\n",
       "  0.8573437333106995,\n",
       "  0.8579687476158142,\n",
       "  0.8590624928474426,\n",
       "  0.8604687452316284,\n",
       "  0.8617187738418579,\n",
       "  0.8615624904632568,\n",
       "  0.8607812523841858,\n",
       "  0.8634374737739563,\n",
       "  0.8626562356948853,\n",
       "  0.8635937571525574,\n",
       "  0.86328125,\n",
       "  0.8646875023841858,\n",
       "  0.8614062666893005,\n",
       "  0.864062488079071,\n",
       "  0.8628125190734863,\n",
       "  0.8643749952316284,\n",
       "  0.864062488079071,\n",
       "  0.8639062643051147,\n",
       "  0.8645312786102295,\n",
       "  0.8659374713897705,\n",
       "  0.8642187714576721,\n",
       "  0.8667187690734863,\n",
       "  0.864062488079071,\n",
       "  0.8657812476158142,\n",
       "  0.8660937547683716,\n",
       "  0.8667187690734863,\n",
       "  0.8654687404632568,\n",
       "  0.8648437261581421,\n",
       "  0.8646875023841858,\n",
       "  0.8671875,\n",
       "  0.8662499785423279,\n",
       "  0.8668749928474426,\n",
       "  0.8659374713897705,\n",
       "  0.8654687404632568,\n",
       "  0.8662499785423279,\n",
       "  0.8660937547683716,\n",
       "  0.8659374713897705,\n",
       "  0.8671875,\n",
       "  0.8681250214576721,\n",
       "  0.8668749928474426,\n",
       "  0.8656250238418579,\n",
       "  0.8670312762260437,\n",
       "  0.8662499785423279,\n",
       "  0.8676562309265137,\n",
       "  0.8675000071525574,\n",
       "  0.8682812452316284,\n",
       "  0.8671875,\n",
       "  0.8676562309265137,\n",
       "  0.866406261920929,\n",
       "  0.8659374713897705,\n",
       "  0.8671875,\n",
       "  0.8682812452316284,\n",
       "  0.8684375286102295,\n",
       "  0.8665624856948853,\n",
       "  0.8692187666893005,\n",
       "  0.8682812452316284,\n",
       "  0.8689062595367432,\n",
       "  0.8670312762260437,\n",
       "  0.8692187666893005,\n",
       "  0.8659374713897705,\n",
       "  0.8685937523841858,\n",
       "  0.8698437213897705,\n",
       "  0.8676562309265137,\n",
       "  0.8681250214576721,\n",
       "  0.8693749904632568,\n",
       "  0.8695312738418579,\n",
       "  0.8684375286102295,\n",
       "  0.8684375286102295,\n",
       "  0.8670312762260437,\n",
       "  0.8673437237739563,\n",
       "  0.867968738079071,\n",
       "  0.8687499761581421,\n",
       "  0.8693749904632568,\n",
       "  0.8700000047683716,\n",
       "  0.8704687356948853,\n",
       "  0.8700000047683716,\n",
       "  0.8689062595367432,\n",
       "  0.870312511920929,\n",
       "  0.8693749904632568,\n",
       "  0.8676562309265137,\n",
       "  0.8695312738418579,\n",
       "  0.8687499761581421,\n",
       "  0.8684375286102295,\n",
       "  0.8707812428474426,\n",
       "  0.8707812428474426,\n",
       "  0.870312511920929],\n",
       " 'val_loss': [0.47049275040626526,\n",
       "  0.4539374113082886,\n",
       "  0.4445033669471741,\n",
       "  0.4367135167121887,\n",
       "  0.425096333026886,\n",
       "  0.4111533463001251,\n",
       "  0.3965824246406555,\n",
       "  0.38772448897361755,\n",
       "  0.38083237409591675,\n",
       "  0.3777552545070648,\n",
       "  0.3738851845264435,\n",
       "  0.37220340967178345,\n",
       "  0.3687956929206848,\n",
       "  0.3668901324272156,\n",
       "  0.3650622069835663,\n",
       "  0.3637353777885437,\n",
       "  0.36270466446876526,\n",
       "  0.36289477348327637,\n",
       "  0.35963618755340576,\n",
       "  0.3588947653770447,\n",
       "  0.3587097227573395,\n",
       "  0.35865363478660583,\n",
       "  0.3569290041923523,\n",
       "  0.35655677318573,\n",
       "  0.3563070595264435,\n",
       "  0.3544498085975647,\n",
       "  0.3549724519252777,\n",
       "  0.3542073369026184,\n",
       "  0.3527912199497223,\n",
       "  0.3532901108264923,\n",
       "  0.3521537780761719,\n",
       "  0.35189998149871826,\n",
       "  0.3515019714832306,\n",
       "  0.3531065285205841,\n",
       "  0.3522367477416992,\n",
       "  0.35240933299064636,\n",
       "  0.35068565607070923,\n",
       "  0.3505507707595825,\n",
       "  0.34966349601745605,\n",
       "  0.34961405396461487,\n",
       "  0.35196879506111145,\n",
       "  0.3507424592971802,\n",
       "  0.3510509729385376,\n",
       "  0.35108473896980286,\n",
       "  0.34992697834968567,\n",
       "  0.3493272066116333,\n",
       "  0.3497803211212158,\n",
       "  0.34794825315475464,\n",
       "  0.3492077887058258,\n",
       "  0.3488651216030121,\n",
       "  0.3505810797214508,\n",
       "  0.3497915267944336,\n",
       "  0.34940633177757263,\n",
       "  0.3497670888900757,\n",
       "  0.3502078354358673,\n",
       "  0.3493744730949402,\n",
       "  0.3484410345554352,\n",
       "  0.3496088683605194,\n",
       "  0.3489038944244385,\n",
       "  0.3497363030910492,\n",
       "  0.3508075475692749,\n",
       "  0.34858617186546326,\n",
       "  0.34896862506866455,\n",
       "  0.3494100570678711,\n",
       "  0.3486000895500183,\n",
       "  0.3482160270214081,\n",
       "  0.35012444853782654,\n",
       "  0.3514159917831421,\n",
       "  0.3482370674610138,\n",
       "  0.3480067551136017,\n",
       "  0.35362064838409424,\n",
       "  0.34959980845451355,\n",
       "  0.3502163589000702,\n",
       "  0.3467809557914734,\n",
       "  0.3490203022956848,\n",
       "  0.35017597675323486,\n",
       "  0.34814339876174927,\n",
       "  0.34925997257232666,\n",
       "  0.3495701253414154,\n",
       "  0.3541993200778961,\n",
       "  0.3476243317127228,\n",
       "  0.3515995740890503,\n",
       "  0.3481915593147278,\n",
       "  0.35089796781539917,\n",
       "  0.3517335057258606,\n",
       "  0.34886908531188965,\n",
       "  0.3522416651248932,\n",
       "  0.35223519802093506,\n",
       "  0.35124626755714417,\n",
       "  0.3510507643222809,\n",
       "  0.35104602575302124,\n",
       "  0.35228046774864197,\n",
       "  0.3519364893436432,\n",
       "  0.3515671491622925,\n",
       "  0.3524118661880493,\n",
       "  0.35060402750968933,\n",
       "  0.3528815507888794,\n",
       "  0.3513924777507782,\n",
       "  0.35127532482147217,\n",
       "  0.3499177098274231],\n",
       " 'val_accuracy': [0.7987499833106995,\n",
       "  0.7987499833106995,\n",
       "  0.8031250238418579,\n",
       "  0.8075000047683716,\n",
       "  0.8187500238418579,\n",
       "  0.8256250023841858,\n",
       "  0.8306249976158142,\n",
       "  0.8412500023841858,\n",
       "  0.84375,\n",
       "  0.84375,\n",
       "  0.8456249833106995,\n",
       "  0.8481249809265137,\n",
       "  0.8500000238418579,\n",
       "  0.8543750047683716,\n",
       "  0.8556249737739563,\n",
       "  0.8581249713897705,\n",
       "  0.8556249737739563,\n",
       "  0.8518750071525574,\n",
       "  0.8556249737739563,\n",
       "  0.8556249737739563,\n",
       "  0.8581249713897705,\n",
       "  0.856249988079071,\n",
       "  0.856249988079071,\n",
       "  0.8568750023841858,\n",
       "  0.8568750023841858,\n",
       "  0.8568750023841858,\n",
       "  0.8575000166893005,\n",
       "  0.8568750023841858,\n",
       "  0.8587499856948853,\n",
       "  0.8575000166893005,\n",
       "  0.8587499856948853,\n",
       "  0.8612499833106995,\n",
       "  0.8600000143051147,\n",
       "  0.8575000166893005,\n",
       "  0.8606250286102295,\n",
       "  0.8600000143051147,\n",
       "  0.8587499856948853,\n",
       "  0.8587499856948853,\n",
       "  0.8606250286102295,\n",
       "  0.8600000143051147,\n",
       "  0.862500011920929,\n",
       "  0.8600000143051147,\n",
       "  0.8600000143051147,\n",
       "  0.8618749976158142,\n",
       "  0.8631250262260437,\n",
       "  0.8612499833106995,\n",
       "  0.8600000143051147,\n",
       "  0.8631250262260437,\n",
       "  0.859375,\n",
       "  0.8612499833106995,\n",
       "  0.859375,\n",
       "  0.8606250286102295,\n",
       "  0.8612499833106995,\n",
       "  0.8618749976158142,\n",
       "  0.8581249713897705,\n",
       "  0.862500011920929,\n",
       "  0.8612499833106995,\n",
       "  0.8618749976158142,\n",
       "  0.862500011920929,\n",
       "  0.8606250286102295,\n",
       "  0.8587499856948853,\n",
       "  0.8618749976158142,\n",
       "  0.8568750023841858,\n",
       "  0.8606250286102295,\n",
       "  0.8587499856948853,\n",
       "  0.8618749976158142,\n",
       "  0.859375,\n",
       "  0.8581249713897705,\n",
       "  0.8600000143051147,\n",
       "  0.856249988079071,\n",
       "  0.8556249737739563,\n",
       "  0.8606250286102295,\n",
       "  0.8600000143051147,\n",
       "  0.8600000143051147,\n",
       "  0.8556249737739563,\n",
       "  0.859375,\n",
       "  0.8581249713897705,\n",
       "  0.859375,\n",
       "  0.8575000166893005,\n",
       "  0.8518750071525574,\n",
       "  0.859375,\n",
       "  0.8575000166893005,\n",
       "  0.856249988079071,\n",
       "  0.8581249713897705,\n",
       "  0.859375,\n",
       "  0.8581249713897705,\n",
       "  0.859375,\n",
       "  0.8556249737739563,\n",
       "  0.8550000190734863,\n",
       "  0.8581249713897705,\n",
       "  0.856249988079071,\n",
       "  0.8575000166893005,\n",
       "  0.8600000143051147,\n",
       "  0.856249988079071,\n",
       "  0.856249988079071,\n",
       "  0.8587499856948853,\n",
       "  0.856249988079071,\n",
       "  0.8600000143051147,\n",
       "  0.8556249737739563,\n",
       "  0.8600000143051147]}"
      ]
     },
     "execution_count": 63,
     "metadata": {},
     "output_type": "execute_result"
    }
   ],
   "source": [
    "history.history"
   ]
  },
  {
   "cell_type": "code",
   "execution_count": 67,
   "id": "cea7fbce",
   "metadata": {},
   "outputs": [],
   "source": [
    "import matplotlib.pyplot as plt"
   ]
  },
  {
   "cell_type": "code",
   "execution_count": 65,
   "id": "59b50bb8",
   "metadata": {},
   "outputs": [
    {
     "data": {
      "text/plain": [
       "[<matplotlib.lines.Line2D at 0x2538df30850>]"
      ]
     },
     "execution_count": 65,
     "metadata": {},
     "output_type": "execute_result"
    },
    {
     "data": {
      "image/png": "[encoded data removed]",
      "text/plain": [
       "<Figure size 640x480 with 1 Axes>"
      ]
     },
     "metadata": {},
     "output_type": "display_data"
    }
   ],
   "source": [
    "plt.plot(history.history[\"loss\"])"
   ]
  },
  {
   "cell_type": "markdown",
   "id": "746dcac1",
   "metadata": {},
   "source": [
    "Initially loss is higher and going to lower "
   ]
  },
  {
   "cell_type": "code",
   "execution_count": 66,
   "id": "5e070c59",
   "metadata": {},
   "outputs": [
    {
     "data": {
      "text/plain": [
       "[<matplotlib.lines.Line2D at 0x2538df956c0>]"
      ]
     },
     "execution_count": 66,
     "metadata": {},
     "output_type": "execute_result"
    },
    {
     "data": {
      "image/png": "[encoded data removed]",
      "text/plain": [
       "<Figure size 640x480 with 1 Axes>"
      ]
     },
     "metadata": {},
     "output_type": "display_data"
    }
   ],
   "source": [
    "plt.plot(history.history['val_loss'])"
   ]
  },
  {
   "cell_type": "code",
   "execution_count": 69,
   "id": "7dd4629e",
   "metadata": {},
   "outputs": [
    {
     "data": {
      "text/plain": [
       "[<matplotlib.lines.Line2D at 0x2538e98caf0>]"
      ]
     },
     "execution_count": 69,
     "metadata": {},
     "output_type": "execute_result"
    },
    {
     "data": {
      "image/png": "[encoded data removed]",
      "text/plain": [
       "<Figure size 640x480 with 1 Axes>"
      ]
     },
     "metadata": {},
     "output_type": "display_data"
    }
   ],
   "source": [
    "plt.plot(history.history[\"loss\"])\n",
    "plt.plot(history.history['val_loss'])"
   ]
  },
  {
   "cell_type": "code",
   "execution_count": 68,
   "id": "6f84b4f6",
   "metadata": {},
   "outputs": [
    {
     "data": {
      "text/plain": [
       "[<matplotlib.lines.Line2D at 0x2538dfee710>]"
      ]
     },
     "execution_count": 68,
     "metadata": {},
     "output_type": "execute_result"
    },
    {
     "data": {
      "image/png": "[encoded data removed]",
      "text/plain": [
       "<Figure size 640x480 with 1 Axes>"
      ]
     },
     "metadata": {},
     "output_type": "display_data"
    }
   ],
   "source": [
    "plt.plot(history.history[\"accuracy\"])\n",
    "plt.plot(history.history['val_accuracy'])"
   ]
  },
  {
   "cell_type": "code",
   "execution_count": null,
   "id": "aae680e3",
   "metadata": {},
   "outputs": [],
   "source": []
  }
 ],
 "metadata": {
  "kernelspec": {
   "display_name": "Python 3 (ipykernel)",
   "language": "python",
   "name": "python3"
  },
  "language_info": {
   "codemirror_mode": {
    "name": "ipython",
    "version": 3
   },
   "file_extension": ".py",
   "mimetype": "text/x-python",
   "name": "python",
   "nbconvert_exporter": "python",
   "pygments_lexer": "ipython3",
   "version": "3.10.9"
  }
 },
 "nbformat": 4,
 "nbformat_minor": 5
}
